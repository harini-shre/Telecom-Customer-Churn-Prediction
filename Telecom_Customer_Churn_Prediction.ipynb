{
 "cells": [
  {
   "cell_type": "markdown",
   "metadata": {
    "id": "XXemIYLqhq9y"
   },
   "source": [
    "# **Churn Prediction of Customers**"
   ]
  },
  {
   "cell_type": "markdown",
   "metadata": {
    "id": "GdFDQSBoiUzp"
   },
   "source": [
    "**DATASET**\n",
    "\n",
    "The Dataset is a fictional dataset of customer churn from telecom industry. Dataset is obtained from:\n",
    "https://www.kaggle.com/blastchar/telco-customer-churn"
   ]
  },
  {
   "cell_type": "markdown",
   "metadata": {
    "id": "a3WBVPIVktqf"
   },
   "source": [
    "#### **ATTRIBUTES**\n",
    "\n",
    "\n",
    "The following are the features present in the dataset\n",
    "\n",
    "\n",
    "***Target Feature:***\n",
    "\n",
    "  Churn: Whether the customer churned or not (Yes or No)\n",
    "\n",
    "\n",
    "***Seventeen categorical Features:***\n",
    "\n",
    "Features related to Customer Personal details:\n",
    "\n",
    "  1. **CustomerID:** Customer ID , a unique ID for each customer\n",
    "  2. **gender:** Whether the customer is a male or a female\n",
    "  3. **SeniorCitizen:** Whether the customer is a senior citizen or not \n",
    "  4. **Partner:** Whether the customer has a partner or not \n",
    "  5. **Dependents:** Whether the customer has dependents or not\n",
    "\n",
    "Features based on the services opted by the Customer:\n",
    "\n",
    "  6. **Contract:** The contract term of the customer (Month-to-month, One year, Two years)\n",
    "  7. **PaperlessBilling:** Whether the customer has paperless billing or not \n",
    "  8. **PaymentMethod:** The customer’s payment method (Electronic check, Mailed check, Bank transfer (automatic), Credit card (automatic))\n",
    "  9. **PhoneService:** Whether the customer has a phone service or not\n",
    "  \n",
    "If the customer has opted \"PhoneSevice\" the following are features are to be considered\n",
    "\n",
    "  10. **MultipleLines:** Whether the customer has multiple phone lines or not\n",
    "  11. **InternetService:** Type of Internet Connection opted by Customer. (DSL, Fiber optic, No)\n",
    "\n",
    "If the customer has opted \"InternetService\" the following are features are to be considered\n",
    "\n",
    "  12. **OnlineSecurity:** Whether the customer has online security or not \n",
    "  13. **OnlineBackup:** Whether the customer has an online backup or not \n",
    "  14. **DeviceProtection:** Whether the customer has device protection or not \n",
    "  15. **TechSupport:** Whether the customer has tech support or not \n",
    "  16. **StreamingTV:** Whether the customer has streaming TV or not \n",
    "  17. **StreamingMovies:** Whether the customer has streaming movies or not \n",
    "\n",
    "***Three numerical Features:***\n",
    "\n",
    "  18. **MonthlyCharges:** The amount charged to the customer monthly\n",
    "  19. **TotalCharges:** The total amount charged to the customer\n",
    "  20. **Tenure:** Number of months the customer has used the services of the company / stayed with the company "
   ]
  },
  {
   "cell_type": "code",
   "execution_count": 1,
   "metadata": {
    "colab": {
     "base_uri": "https://localhost:8080/"
    },
    "id": "nZtOT5MaiZ06",
    "outputId": "70b4b5f3-2741-4886-b94b-4c84fb0ac39a"
   },
   "outputs": [
    {
     "name": "stdout",
     "output_type": "stream",
     "text": [
      "Mounted at /content/drive/\n"
     ]
    }
   ],
   "source": [
    "from google.colab import drive\n",
    "drive.mount(\"/content/drive/\")"
   ]
  },
  {
   "cell_type": "code",
   "execution_count": 2,
   "metadata": {
    "colab": {
     "base_uri": "https://localhost:8080/"
    },
    "id": "OfyQ9BXvkxSO",
    "outputId": "b828524e-415f-451d-a574-3af916455b26"
   },
   "outputs": [
    {
     "name": "stdout",
     "output_type": "stream",
     "text": [
      "/content/drive/My Drive\n"
     ]
    }
   ],
   "source": [
    "%cd \"drive/My Drive\""
   ]
  },
  {
   "cell_type": "code",
   "execution_count": 3,
   "metadata": {
    "colab": {
     "base_uri": "https://localhost:8080/",
     "height": 17
    },
    "id": "amk0Fm8EWnXq",
    "outputId": "f24c83f6-b487-4474-c3f0-f569b04b5cdf"
   },
   "outputs": [
    {
     "data": {
      "application/javascript": [
       "google.colab.output.resizeIframeToContent()"
      ],
      "text/plain": [
       "<IPython.core.display.Javascript object>"
      ]
     },
     "metadata": {
      "tags": []
     },
     "output_type": "display_data"
    }
   ],
   "source": [
    "# Basic Python Packages \n",
    "import pandas as pd\n",
    "import numpy as np \n",
    "import matplotlib.pyplot as plt\n",
    "%matplotlib inline\n",
    "import seaborn as sns\n",
    "import math\n",
    "from IPython.display import Javascript\n",
    "display(Javascript(\"google.colab.output.resizeIframeToContent()\"))\n",
    "import warnings\n",
    "warnings.filterwarnings(\"ignore\")\n",
    "\n",
    "# Packages for preprocessing\n",
    "from sklearn.preprocessing import MinMaxScaler\n",
    "from sklearn.model_selection import train_test_split\n",
    "\n",
    "# Packages for Feature selection\n",
    "from scipy.stats import ttest_ind\n",
    "from scipy.stats import chi2_contingency\n",
    "\n",
    "# packages for model evaluation\n",
    "from sklearn.model_selection import RandomizedSearchCV \n",
    "from sklearn.model_selection import cross_val_score\n",
    "from sklearn.metrics import accuracy_score, precision_score, recall_score, confusion_matrix\n",
    "from sklearn.metrics import classification_report, f1_score, fbeta_score, make_scorer\n",
    "\n",
    "#Packages for Models\n",
    "from sklearn.linear_model import LogisticRegression\n",
    "from sklearn.svm import SVC\n",
    "from sklearn.neighbors import KNeighborsClassifier\n",
    "from sklearn.ensemble import RandomForestClassifier\n",
    "from sklearn.ensemble import AdaBoostClassifier"
   ]
  },
  {
   "cell_type": "code",
   "execution_count": 4,
   "metadata": {
    "colab": {
     "base_uri": "https://localhost:8080/",
     "height": 313
    },
    "id": "OgLH_TYqWX0D",
    "outputId": "54901351-32ba-4cc3-c184-f0612aa98871"
   },
   "outputs": [
    {
     "data": {
      "text/html": [
       "<div>\n",
       "<style scoped>\n",
       "    .dataframe tbody tr th:only-of-type {\n",
       "        vertical-align: middle;\n",
       "    }\n",
       "\n",
       "    .dataframe tbody tr th {\n",
       "        vertical-align: top;\n",
       "    }\n",
       "\n",
       "    .dataframe thead th {\n",
       "        text-align: right;\n",
       "    }\n",
       "</style>\n",
       "<table border=\"1\" class=\"dataframe\">\n",
       "  <thead>\n",
       "    <tr style=\"text-align: right;\">\n",
       "      <th></th>\n",
       "      <th>customerID</th>\n",
       "      <th>gender</th>\n",
       "      <th>SeniorCitizen</th>\n",
       "      <th>Partner</th>\n",
       "      <th>Dependents</th>\n",
       "      <th>tenure</th>\n",
       "      <th>PhoneService</th>\n",
       "      <th>MultipleLines</th>\n",
       "      <th>InternetService</th>\n",
       "      <th>OnlineSecurity</th>\n",
       "      <th>OnlineBackup</th>\n",
       "      <th>DeviceProtection</th>\n",
       "      <th>TechSupport</th>\n",
       "      <th>StreamingTV</th>\n",
       "      <th>StreamingMovies</th>\n",
       "      <th>Contract</th>\n",
       "      <th>PaperlessBilling</th>\n",
       "      <th>PaymentMethod</th>\n",
       "      <th>MonthlyCharges</th>\n",
       "      <th>TotalCharges</th>\n",
       "      <th>Churn</th>\n",
       "    </tr>\n",
       "  </thead>\n",
       "  <tbody>\n",
       "    <tr>\n",
       "      <th>0</th>\n",
       "      <td>7590-VHVEG</td>\n",
       "      <td>Female</td>\n",
       "      <td>0</td>\n",
       "      <td>Yes</td>\n",
       "      <td>No</td>\n",
       "      <td>1</td>\n",
       "      <td>No</td>\n",
       "      <td>No phone service</td>\n",
       "      <td>DSL</td>\n",
       "      <td>No</td>\n",
       "      <td>Yes</td>\n",
       "      <td>No</td>\n",
       "      <td>No</td>\n",
       "      <td>No</td>\n",
       "      <td>No</td>\n",
       "      <td>Month-to-month</td>\n",
       "      <td>Yes</td>\n",
       "      <td>Electronic check</td>\n",
       "      <td>29.85</td>\n",
       "      <td>29.85</td>\n",
       "      <td>No</td>\n",
       "    </tr>\n",
       "    <tr>\n",
       "      <th>1</th>\n",
       "      <td>5575-GNVDE</td>\n",
       "      <td>Male</td>\n",
       "      <td>0</td>\n",
       "      <td>No</td>\n",
       "      <td>No</td>\n",
       "      <td>34</td>\n",
       "      <td>Yes</td>\n",
       "      <td>No</td>\n",
       "      <td>DSL</td>\n",
       "      <td>Yes</td>\n",
       "      <td>No</td>\n",
       "      <td>Yes</td>\n",
       "      <td>No</td>\n",
       "      <td>No</td>\n",
       "      <td>No</td>\n",
       "      <td>One year</td>\n",
       "      <td>No</td>\n",
       "      <td>Mailed check</td>\n",
       "      <td>56.95</td>\n",
       "      <td>1889.5</td>\n",
       "      <td>No</td>\n",
       "    </tr>\n",
       "    <tr>\n",
       "      <th>2</th>\n",
       "      <td>3668-QPYBK</td>\n",
       "      <td>Male</td>\n",
       "      <td>0</td>\n",
       "      <td>No</td>\n",
       "      <td>No</td>\n",
       "      <td>2</td>\n",
       "      <td>Yes</td>\n",
       "      <td>No</td>\n",
       "      <td>DSL</td>\n",
       "      <td>Yes</td>\n",
       "      <td>Yes</td>\n",
       "      <td>No</td>\n",
       "      <td>No</td>\n",
       "      <td>No</td>\n",
       "      <td>No</td>\n",
       "      <td>Month-to-month</td>\n",
       "      <td>Yes</td>\n",
       "      <td>Mailed check</td>\n",
       "      <td>53.85</td>\n",
       "      <td>108.15</td>\n",
       "      <td>Yes</td>\n",
       "    </tr>\n",
       "    <tr>\n",
       "      <th>3</th>\n",
       "      <td>7795-CFOCW</td>\n",
       "      <td>Male</td>\n",
       "      <td>0</td>\n",
       "      <td>No</td>\n",
       "      <td>No</td>\n",
       "      <td>45</td>\n",
       "      <td>No</td>\n",
       "      <td>No phone service</td>\n",
       "      <td>DSL</td>\n",
       "      <td>Yes</td>\n",
       "      <td>No</td>\n",
       "      <td>Yes</td>\n",
       "      <td>Yes</td>\n",
       "      <td>No</td>\n",
       "      <td>No</td>\n",
       "      <td>One year</td>\n",
       "      <td>No</td>\n",
       "      <td>Bank transfer (automatic)</td>\n",
       "      <td>42.30</td>\n",
       "      <td>1840.75</td>\n",
       "      <td>No</td>\n",
       "    </tr>\n",
       "    <tr>\n",
       "      <th>4</th>\n",
       "      <td>9237-HQITU</td>\n",
       "      <td>Female</td>\n",
       "      <td>0</td>\n",
       "      <td>No</td>\n",
       "      <td>No</td>\n",
       "      <td>2</td>\n",
       "      <td>Yes</td>\n",
       "      <td>No</td>\n",
       "      <td>Fiber optic</td>\n",
       "      <td>No</td>\n",
       "      <td>No</td>\n",
       "      <td>No</td>\n",
       "      <td>No</td>\n",
       "      <td>No</td>\n",
       "      <td>No</td>\n",
       "      <td>Month-to-month</td>\n",
       "      <td>Yes</td>\n",
       "      <td>Electronic check</td>\n",
       "      <td>70.70</td>\n",
       "      <td>151.65</td>\n",
       "      <td>Yes</td>\n",
       "    </tr>\n",
       "  </tbody>\n",
       "</table>\n",
       "</div>"
      ],
      "text/plain": [
       "   customerID  gender  SeniorCitizen  ... MonthlyCharges TotalCharges  Churn\n",
       "0  7590-VHVEG  Female              0  ...          29.85        29.85     No\n",
       "1  5575-GNVDE    Male              0  ...          56.95       1889.5     No\n",
       "2  3668-QPYBK    Male              0  ...          53.85       108.15    Yes\n",
       "3  7795-CFOCW    Male              0  ...          42.30      1840.75     No\n",
       "4  9237-HQITU  Female              0  ...          70.70       151.65    Yes\n",
       "\n",
       "[5 rows x 21 columns]"
      ]
     },
     "execution_count": 4,
     "metadata": {
      "tags": []
     },
     "output_type": "execute_result"
    }
   ],
   "source": [
    "df = pd.read_csv(\"WA_Fn-UseC_-Telco-Customer-Churn.csv\")\n",
    "df.head()"
   ]
  },
  {
   "cell_type": "code",
   "execution_count": 5,
   "metadata": {
    "colab": {
     "base_uri": "https://localhost:8080/"
    },
    "id": "Z3vc_OB4WleK",
    "outputId": "1335f387-c61e-44e5-bf31-09f1372255e0"
   },
   "outputs": [
    {
     "data": {
      "text/plain": [
       "(7043, 21)"
      ]
     },
     "execution_count": 5,
     "metadata": {
      "tags": []
     },
     "output_type": "execute_result"
    }
   ],
   "source": [
    "df.shape"
   ]
  },
  {
   "cell_type": "code",
   "execution_count": 6,
   "metadata": {
    "id": "UQXmMi41pYQS"
   },
   "outputs": [],
   "source": [
    "X = df.drop(['Churn'], axis = 1)\n",
    "Y = df['Churn']"
   ]
  },
  {
   "cell_type": "code",
   "execution_count": 7,
   "metadata": {
    "id": "nCiea6LnpmqW"
   },
   "outputs": [],
   "source": [
    "x_train, x_test, y_train, y_test = train_test_split(X,Y, stratify = Y, test_size = 0.25, random_state= 42)"
   ]
  },
  {
   "cell_type": "code",
   "execution_count": 8,
   "metadata": {
    "colab": {
     "base_uri": "https://localhost:8080/"
    },
    "id": "6xlQbPHWq7uD",
    "outputId": "8d1d090a-7d94-45c6-a170-1e8b7267e604"
   },
   "outputs": [
    {
     "data": {
      "text/plain": [
       "(5282, 20)"
      ]
     },
     "execution_count": 8,
     "metadata": {
      "tags": []
     },
     "output_type": "execute_result"
    }
   ],
   "source": [
    "x_train.shape"
   ]
  },
  {
   "cell_type": "code",
   "execution_count": 9,
   "metadata": {
    "colab": {
     "base_uri": "https://localhost:8080/"
    },
    "id": "CtIlFWxVqSes",
    "outputId": "efdfe79a-6298-48d3-933c-670e1597db2f"
   },
   "outputs": [
    {
     "data": {
      "text/plain": [
       "(5282, 21)"
      ]
     },
     "execution_count": 9,
     "metadata": {
      "tags": []
     },
     "output_type": "execute_result"
    }
   ],
   "source": [
    "train = pd.concat([x_train,  y_train], axis = 1)\n",
    "train.shape"
   ]
  },
  {
   "cell_type": "markdown",
   "metadata": {
    "id": "nXmc8PeErThI"
   },
   "source": [
    "All the analysis should be done only on the training set and not on test set. If analysis and preprocessing is done on test set, then the test set may not reflect the correct result as it becomes biased due to data leakage."
   ]
  },
  {
   "cell_type": "markdown",
   "metadata": {
    "id": "eLgPGMT-deeC"
   },
   "source": [
    "## **Exploratory Data Analysis**"
   ]
  },
  {
   "cell_type": "code",
   "execution_count": 10,
   "metadata": {
    "colab": {
     "base_uri": "https://localhost:8080/"
    },
    "id": "ymK_pmbodNLE",
    "outputId": "a575ac4f-ad2d-4760-ca98-429952a35958"
   },
   "outputs": [
    {
     "name": "stdout",
     "output_type": "stream",
     "text": [
      "<class 'pandas.core.frame.DataFrame'>\n",
      "Int64Index: 5282 entries, 6661 to 5639\n",
      "Data columns (total 21 columns):\n",
      " #   Column            Non-Null Count  Dtype  \n",
      "---  ------            --------------  -----  \n",
      " 0   customerID        5282 non-null   object \n",
      " 1   gender            5282 non-null   object \n",
      " 2   SeniorCitizen     5282 non-null   int64  \n",
      " 3   Partner           5282 non-null   object \n",
      " 4   Dependents        5282 non-null   object \n",
      " 5   tenure            5282 non-null   int64  \n",
      " 6   PhoneService      5282 non-null   object \n",
      " 7   MultipleLines     5282 non-null   object \n",
      " 8   InternetService   5282 non-null   object \n",
      " 9   OnlineSecurity    5282 non-null   object \n",
      " 10  OnlineBackup      5282 non-null   object \n",
      " 11  DeviceProtection  5282 non-null   object \n",
      " 12  TechSupport       5282 non-null   object \n",
      " 13  StreamingTV       5282 non-null   object \n",
      " 14  StreamingMovies   5282 non-null   object \n",
      " 15  Contract          5282 non-null   object \n",
      " 16  PaperlessBilling  5282 non-null   object \n",
      " 17  PaymentMethod     5282 non-null   object \n",
      " 18  MonthlyCharges    5282 non-null   float64\n",
      " 19  TotalCharges      5282 non-null   object \n",
      " 20  Churn             5282 non-null   object \n",
      "dtypes: float64(1), int64(2), object(18)\n",
      "memory usage: 907.8+ KB\n"
     ]
    }
   ],
   "source": [
    "train.info()"
   ]
  },
  {
   "cell_type": "code",
   "execution_count": 11,
   "metadata": {
    "colab": {
     "base_uri": "https://localhost:8080/",
     "height": 363
    },
    "id": "ClZGvGQmfKnp",
    "outputId": "4b7dbeef-dd02-49fa-e6ca-016090982bcf"
   },
   "outputs": [
    {
     "data": {
      "text/plain": [
       "<matplotlib.axes._subplots.AxesSubplot at 0x7efdd5ee6610>"
      ]
     },
     "execution_count": 11,
     "metadata": {
      "tags": []
     },
     "output_type": "execute_result"
    },
    {
     "data": {
      "image/png": "[encoded data removed]",
      "text/plain": [
       "<Figure size 432x288 with 2 Axes>"
      ]
     },
     "metadata": {
      "needs_background": "light",
      "tags": []
     },
     "output_type": "display_data"
    }
   ],
   "source": [
    "sns.heatmap(train.isnull(), cmap = \"viridis\")"
   ]
  },
  {
   "cell_type": "markdown",
   "metadata": {
    "id": "8OwnMK4bfjbf"
   },
   "source": [
    "There are no missing values in the dataset\n"
   ]
  },
  {
   "cell_type": "code",
   "execution_count": 12,
   "metadata": {
    "colab": {
     "base_uri": "https://localhost:8080/"
    },
    "id": "_qNGaNFAgiAK",
    "outputId": "565510bd-657f-43ff-feb2-3ace6889035c"
   },
   "outputs": [
    {
     "data": {
      "text/plain": [
       "(0, 21)"
      ]
     },
     "execution_count": 12,
     "metadata": {
      "tags": []
     },
     "output_type": "execute_result"
    }
   ],
   "source": [
    "train_duplicates = train[train.duplicated()]\n",
    "train_duplicates.shape"
   ]
  },
  {
   "cell_type": "markdown",
   "metadata": {
    "id": "r2GbwAlKgvKB"
   },
   "source": [
    "Ther is no duplicate rows in this dataset"
   ]
  },
  {
   "cell_type": "code",
   "execution_count": 13,
   "metadata": {
    "colab": {
     "base_uri": "https://localhost:8080/",
     "height": 300
    },
    "id": "I4qTLVY4g6gM",
    "outputId": "e92c1dd1-fd6e-42c0-ec39-e9f1200da6c1"
   },
   "outputs": [
    {
     "data": {
      "text/html": [
       "<div>\n",
       "<style scoped>\n",
       "    .dataframe tbody tr th:only-of-type {\n",
       "        vertical-align: middle;\n",
       "    }\n",
       "\n",
       "    .dataframe tbody tr th {\n",
       "        vertical-align: top;\n",
       "    }\n",
       "\n",
       "    .dataframe thead th {\n",
       "        text-align: right;\n",
       "    }\n",
       "</style>\n",
       "<table border=\"1\" class=\"dataframe\">\n",
       "  <thead>\n",
       "    <tr style=\"text-align: right;\">\n",
       "      <th></th>\n",
       "      <th>SeniorCitizen</th>\n",
       "      <th>tenure</th>\n",
       "      <th>MonthlyCharges</th>\n",
       "    </tr>\n",
       "  </thead>\n",
       "  <tbody>\n",
       "    <tr>\n",
       "      <th>count</th>\n",
       "      <td>5282.000000</td>\n",
       "      <td>5282.000000</td>\n",
       "      <td>5282.000000</td>\n",
       "    </tr>\n",
       "    <tr>\n",
       "      <th>mean</th>\n",
       "      <td>0.162060</td>\n",
       "      <td>32.362931</td>\n",
       "      <td>64.856626</td>\n",
       "    </tr>\n",
       "    <tr>\n",
       "      <th>std</th>\n",
       "      <td>0.368541</td>\n",
       "      <td>24.627623</td>\n",
       "      <td>30.171934</td>\n",
       "    </tr>\n",
       "    <tr>\n",
       "      <th>min</th>\n",
       "      <td>0.000000</td>\n",
       "      <td>0.000000</td>\n",
       "      <td>18.400000</td>\n",
       "    </tr>\n",
       "    <tr>\n",
       "      <th>25%</th>\n",
       "      <td>0.000000</td>\n",
       "      <td>9.000000</td>\n",
       "      <td>35.450000</td>\n",
       "    </tr>\n",
       "    <tr>\n",
       "      <th>50%</th>\n",
       "      <td>0.000000</td>\n",
       "      <td>29.000000</td>\n",
       "      <td>70.500000</td>\n",
       "    </tr>\n",
       "    <tr>\n",
       "      <th>75%</th>\n",
       "      <td>0.000000</td>\n",
       "      <td>55.750000</td>\n",
       "      <td>89.987500</td>\n",
       "    </tr>\n",
       "    <tr>\n",
       "      <th>max</th>\n",
       "      <td>1.000000</td>\n",
       "      <td>72.000000</td>\n",
       "      <td>118.750000</td>\n",
       "    </tr>\n",
       "  </tbody>\n",
       "</table>\n",
       "</div>"
      ],
      "text/plain": [
       "       SeniorCitizen       tenure  MonthlyCharges\n",
       "count    5282.000000  5282.000000     5282.000000\n",
       "mean        0.162060    32.362931       64.856626\n",
       "std         0.368541    24.627623       30.171934\n",
       "min         0.000000     0.000000       18.400000\n",
       "25%         0.000000     9.000000       35.450000\n",
       "50%         0.000000    29.000000       70.500000\n",
       "75%         0.000000    55.750000       89.987500\n",
       "max         1.000000    72.000000      118.750000"
      ]
     },
     "execution_count": 13,
     "metadata": {
      "tags": []
     },
     "output_type": "execute_result"
    }
   ],
   "source": [
    "train.describe()"
   ]
  },
  {
   "cell_type": "code",
   "execution_count": 14,
   "metadata": {
    "colab": {
     "base_uri": "https://localhost:8080/"
    },
    "id": "zaPsZepMEcVb",
    "outputId": "4c82ae42-8034-4bd6-ea97-8f65c317e9b5"
   },
   "outputs": [
    {
     "data": {
      "text/plain": [
       "No     3880\n",
       "Yes    1402\n",
       "Name: Churn, dtype: int64"
      ]
     },
     "execution_count": 14,
     "metadata": {
      "tags": []
     },
     "output_type": "execute_result"
    }
   ],
   "source": [
    "train.Churn.value_counts()"
   ]
  },
  {
   "cell_type": "code",
   "execution_count": 15,
   "metadata": {
    "colab": {
     "base_uri": "https://localhost:8080/",
     "height": 264
    },
    "id": "W1nZdGq_Ei8D",
    "outputId": "110c36a8-176f-4a45-88b2-5fac15584d99"
   },
   "outputs": [
    {
     "data": {
      "image/png": "[encoded data removed]",
      "text/plain": [
       "<Figure size 432x288 with 1 Axes>"
      ]
     },
     "metadata": {
      "tags": []
     },
     "output_type": "display_data"
    }
   ],
   "source": [
    "plt.figure(figsize=(6, 4))\n",
    "plt.pie(train.Churn.value_counts()/train.shape[0], labels = train.Churn.unique(), autopct='%1.2f%%')\n",
    "plt.title(\"Churn Ratio of Telecom Industry\")\n",
    "plt.show()"
   ]
  },
  {
   "cell_type": "markdown",
   "metadata": {
    "id": "Psjy8T9TIeXY"
   },
   "source": [
    "26.54% of customers are churning, 73.46% of customers retain with our business."
   ]
  },
  {
   "cell_type": "markdown",
   "metadata": {
    "id": "cQ5QAPzMEjTE"
   },
   "source": [
    "**Viewing the Unique Values of Each Column**"
   ]
  },
  {
   "cell_type": "code",
   "execution_count": 16,
   "metadata": {
    "colab": {
     "base_uri": "https://localhost:8080/"
    },
    "id": "uB1uFcCPFBn9",
    "outputId": "7b31d1b9-fc38-4039-e79f-e87fde8f64a8"
   },
   "outputs": [
    {
     "name": "stdout",
     "output_type": "stream",
     "text": [
      "Feature customerID has 5282 values - too large to print all values.. some sample are['3317-HRTNN' '0238-WHBIQ' '0578-SKVMF' '3696-DFHHB' '0363-SVHYR']\n",
      "Feature gender has 2 values - ['Female' 'Male']\n",
      "Feature SeniorCitizen has 2 values - [0 1]\n",
      "Feature Partner has 2 values - ['Yes' 'No']\n",
      "Feature Dependents has 2 values - ['Yes' 'No']\n",
      "Feature tenure has 73 values - too large to print all values.. some sample are[ 5 72 22 68 71]\n",
      "Feature PhoneService has 2 values - ['No' 'Yes']\n",
      "Feature MultipleLines has 3 values - ['No phone service' 'No' 'Yes']\n",
      "Feature InternetService has 3 values - ['DSL' 'No' 'Fiber optic']\n",
      "Feature OnlineSecurity has 3 values - ['No' 'No internet service' 'Yes']\n",
      "Feature OnlineBackup has 3 values - ['Yes' 'No' 'No internet service']\n",
      "Feature DeviceProtection has 3 values - ['No' 'No internet service' 'Yes']\n",
      "Feature TechSupport has 3 values - ['Yes' 'No' 'No internet service']\n",
      "Feature StreamingTV has 3 values - ['Yes' 'No' 'No internet service']\n",
      "Feature StreamingMovies has 3 values - ['Yes' 'No' 'No internet service']\n",
      "Feature Contract has 3 values - ['Two year' 'Month-to-month' 'One year']\n",
      "Feature PaperlessBilling has 2 values - ['No' 'Yes']\n",
      "Feature PaymentMethod has 4 values - ['Credit card (automatic)' 'Mailed check' 'Electronic check'\n",
      " 'Bank transfer (automatic)']\n",
      "Feature MonthlyCharges has 1471 values - too large to print all values.. some sample are[45.7  89.7  83.3  25.5  86.85]\n",
      "Feature TotalCharges has 4959 values - too large to print all values.. some sample are['198' '6339.3' '1845.9' '1821.8' '6263.8']\n",
      "Feature Churn has 2 values - ['No' 'Yes']\n"
     ]
    }
   ],
   "source": [
    "for feature in train.columns:\n",
    "  len_unique = len(train[feature].unique())\n",
    "  if len_unique <= 10 :\n",
    "    uniq = train[feature].unique()\n",
    "  else:\n",
    "    uniq = \"too large to print all values.. some sample are\" + str(train[feature][500:505].values)\n",
    "  print(\"Feature\",feature,\"has\",len_unique,\"values -\",uniq)"
   ]
  },
  {
   "cell_type": "markdown",
   "metadata": {
    "id": "B2_hp_dgamNE"
   },
   "source": []
  },
  {
   "cell_type": "markdown",
   "metadata": {
    "id": "WU29O8RKFKjz"
   },
   "source": [
    "The TotalCharges are float numbers but it's datatype is an Object. We need to check it. \n",
    "\n",
    "If we are not converting the Object type of TotalCharges to Float type, then we may not be able to do the EDA."
   ]
  },
  {
   "cell_type": "code",
   "execution_count": 17,
   "metadata": {
    "colab": {
     "base_uri": "https://localhost:8080/",
     "height": 459
    },
    "id": "FzZBRIVIkhgr",
    "outputId": "30ee4ece-e3ae-42bd-fc21-699e5335b519"
   },
   "outputs": [
    {
     "data": {
      "text/html": [
       "<div>\n",
       "<style scoped>\n",
       "    .dataframe tbody tr th:only-of-type {\n",
       "        vertical-align: middle;\n",
       "    }\n",
       "\n",
       "    .dataframe tbody tr th {\n",
       "        vertical-align: top;\n",
       "    }\n",
       "\n",
       "    .dataframe thead th {\n",
       "        text-align: right;\n",
       "    }\n",
       "</style>\n",
       "<table border=\"1\" class=\"dataframe\">\n",
       "  <thead>\n",
       "    <tr style=\"text-align: right;\">\n",
       "      <th></th>\n",
       "      <th>customerID</th>\n",
       "      <th>gender</th>\n",
       "      <th>SeniorCitizen</th>\n",
       "      <th>Partner</th>\n",
       "      <th>Dependents</th>\n",
       "      <th>tenure</th>\n",
       "      <th>PhoneService</th>\n",
       "      <th>MultipleLines</th>\n",
       "      <th>InternetService</th>\n",
       "      <th>OnlineSecurity</th>\n",
       "      <th>OnlineBackup</th>\n",
       "      <th>DeviceProtection</th>\n",
       "      <th>TechSupport</th>\n",
       "      <th>StreamingTV</th>\n",
       "      <th>StreamingMovies</th>\n",
       "      <th>Contract</th>\n",
       "      <th>PaperlessBilling</th>\n",
       "      <th>PaymentMethod</th>\n",
       "      <th>MonthlyCharges</th>\n",
       "      <th>TotalCharges</th>\n",
       "      <th>Churn</th>\n",
       "    </tr>\n",
       "  </thead>\n",
       "  <tbody>\n",
       "    <tr>\n",
       "      <th>6670</th>\n",
       "      <td>4075-WKNIU</td>\n",
       "      <td>Female</td>\n",
       "      <td>0</td>\n",
       "      <td>Yes</td>\n",
       "      <td>Yes</td>\n",
       "      <td>0</td>\n",
       "      <td>Yes</td>\n",
       "      <td>Yes</td>\n",
       "      <td>DSL</td>\n",
       "      <td>No</td>\n",
       "      <td>Yes</td>\n",
       "      <td>Yes</td>\n",
       "      <td>Yes</td>\n",
       "      <td>Yes</td>\n",
       "      <td>No</td>\n",
       "      <td>Two year</td>\n",
       "      <td>No</td>\n",
       "      <td>Mailed check</td>\n",
       "      <td>73.35</td>\n",
       "      <td></td>\n",
       "      <td>No</td>\n",
       "    </tr>\n",
       "    <tr>\n",
       "      <th>3826</th>\n",
       "      <td>3213-VVOLG</td>\n",
       "      <td>Male</td>\n",
       "      <td>0</td>\n",
       "      <td>Yes</td>\n",
       "      <td>Yes</td>\n",
       "      <td>0</td>\n",
       "      <td>Yes</td>\n",
       "      <td>Yes</td>\n",
       "      <td>No</td>\n",
       "      <td>No internet service</td>\n",
       "      <td>No internet service</td>\n",
       "      <td>No internet service</td>\n",
       "      <td>No internet service</td>\n",
       "      <td>No internet service</td>\n",
       "      <td>No internet service</td>\n",
       "      <td>Two year</td>\n",
       "      <td>No</td>\n",
       "      <td>Mailed check</td>\n",
       "      <td>25.35</td>\n",
       "      <td></td>\n",
       "      <td>No</td>\n",
       "    </tr>\n",
       "    <tr>\n",
       "      <th>4380</th>\n",
       "      <td>2520-SGTTA</td>\n",
       "      <td>Female</td>\n",
       "      <td>0</td>\n",
       "      <td>Yes</td>\n",
       "      <td>Yes</td>\n",
       "      <td>0</td>\n",
       "      <td>Yes</td>\n",
       "      <td>No</td>\n",
       "      <td>No</td>\n",
       "      <td>No internet service</td>\n",
       "      <td>No internet service</td>\n",
       "      <td>No internet service</td>\n",
       "      <td>No internet service</td>\n",
       "      <td>No internet service</td>\n",
       "      <td>No internet service</td>\n",
       "      <td>Two year</td>\n",
       "      <td>No</td>\n",
       "      <td>Mailed check</td>\n",
       "      <td>20.00</td>\n",
       "      <td></td>\n",
       "      <td>No</td>\n",
       "    </tr>\n",
       "    <tr>\n",
       "      <th>488</th>\n",
       "      <td>4472-LVYGI</td>\n",
       "      <td>Female</td>\n",
       "      <td>0</td>\n",
       "      <td>Yes</td>\n",
       "      <td>Yes</td>\n",
       "      <td>0</td>\n",
       "      <td>No</td>\n",
       "      <td>No phone service</td>\n",
       "      <td>DSL</td>\n",
       "      <td>Yes</td>\n",
       "      <td>No</td>\n",
       "      <td>Yes</td>\n",
       "      <td>Yes</td>\n",
       "      <td>Yes</td>\n",
       "      <td>No</td>\n",
       "      <td>Two year</td>\n",
       "      <td>Yes</td>\n",
       "      <td>Bank transfer (automatic)</td>\n",
       "      <td>52.55</td>\n",
       "      <td></td>\n",
       "      <td>No</td>\n",
       "    </tr>\n",
       "    <tr>\n",
       "      <th>1082</th>\n",
       "      <td>4367-NUYAO</td>\n",
       "      <td>Male</td>\n",
       "      <td>0</td>\n",
       "      <td>Yes</td>\n",
       "      <td>Yes</td>\n",
       "      <td>0</td>\n",
       "      <td>Yes</td>\n",
       "      <td>Yes</td>\n",
       "      <td>No</td>\n",
       "      <td>No internet service</td>\n",
       "      <td>No internet service</td>\n",
       "      <td>No internet service</td>\n",
       "      <td>No internet service</td>\n",
       "      <td>No internet service</td>\n",
       "      <td>No internet service</td>\n",
       "      <td>Two year</td>\n",
       "      <td>No</td>\n",
       "      <td>Mailed check</td>\n",
       "      <td>25.75</td>\n",
       "      <td></td>\n",
       "      <td>No</td>\n",
       "    </tr>\n",
       "    <tr>\n",
       "      <th>1340</th>\n",
       "      <td>1371-DWPAZ</td>\n",
       "      <td>Female</td>\n",
       "      <td>0</td>\n",
       "      <td>Yes</td>\n",
       "      <td>Yes</td>\n",
       "      <td>0</td>\n",
       "      <td>No</td>\n",
       "      <td>No phone service</td>\n",
       "      <td>DSL</td>\n",
       "      <td>Yes</td>\n",
       "      <td>Yes</td>\n",
       "      <td>Yes</td>\n",
       "      <td>Yes</td>\n",
       "      <td>Yes</td>\n",
       "      <td>No</td>\n",
       "      <td>Two year</td>\n",
       "      <td>No</td>\n",
       "      <td>Credit card (automatic)</td>\n",
       "      <td>56.05</td>\n",
       "      <td></td>\n",
       "      <td>No</td>\n",
       "    </tr>\n",
       "    <tr>\n",
       "      <th>6754</th>\n",
       "      <td>2775-SEFEE</td>\n",
       "      <td>Male</td>\n",
       "      <td>0</td>\n",
       "      <td>No</td>\n",
       "      <td>Yes</td>\n",
       "      <td>0</td>\n",
       "      <td>Yes</td>\n",
       "      <td>Yes</td>\n",
       "      <td>DSL</td>\n",
       "      <td>Yes</td>\n",
       "      <td>Yes</td>\n",
       "      <td>No</td>\n",
       "      <td>Yes</td>\n",
       "      <td>No</td>\n",
       "      <td>No</td>\n",
       "      <td>Two year</td>\n",
       "      <td>Yes</td>\n",
       "      <td>Bank transfer (automatic)</td>\n",
       "      <td>61.90</td>\n",
       "      <td></td>\n",
       "      <td>No</td>\n",
       "    </tr>\n",
       "    <tr>\n",
       "      <th>3331</th>\n",
       "      <td>7644-OMVMY</td>\n",
       "      <td>Male</td>\n",
       "      <td>0</td>\n",
       "      <td>Yes</td>\n",
       "      <td>Yes</td>\n",
       "      <td>0</td>\n",
       "      <td>Yes</td>\n",
       "      <td>No</td>\n",
       "      <td>No</td>\n",
       "      <td>No internet service</td>\n",
       "      <td>No internet service</td>\n",
       "      <td>No internet service</td>\n",
       "      <td>No internet service</td>\n",
       "      <td>No internet service</td>\n",
       "      <td>No internet service</td>\n",
       "      <td>Two year</td>\n",
       "      <td>No</td>\n",
       "      <td>Mailed check</td>\n",
       "      <td>19.85</td>\n",
       "      <td></td>\n",
       "      <td>No</td>\n",
       "    </tr>\n",
       "  </tbody>\n",
       "</table>\n",
       "</div>"
      ],
      "text/plain": [
       "      customerID  gender  SeniorCitizen  ... MonthlyCharges TotalCharges  Churn\n",
       "6670  4075-WKNIU  Female              0  ...          73.35                  No\n",
       "3826  3213-VVOLG    Male              0  ...          25.35                  No\n",
       "4380  2520-SGTTA  Female              0  ...          20.00                  No\n",
       "488   4472-LVYGI  Female              0  ...          52.55                  No\n",
       "1082  4367-NUYAO    Male              0  ...          25.75                  No\n",
       "1340  1371-DWPAZ  Female              0  ...          56.05                  No\n",
       "6754  2775-SEFEE    Male              0  ...          61.90                  No\n",
       "3331  7644-OMVMY    Male              0  ...          19.85                  No\n",
       "\n",
       "[8 rows x 21 columns]"
      ]
     },
     "execution_count": 17,
     "metadata": {
      "tags": []
     },
     "output_type": "execute_result"
    }
   ],
   "source": [
    "# TotalCharges is an integer, not an object, so it has to be converted\n",
    "TotalCharges_missing = train[ pd.to_numeric(train['TotalCharges'], errors='coerce').isnull()]\n",
    "TotalCharges_missing"
   ]
  },
  {
   "cell_type": "markdown",
   "metadata": {
    "id": "bL3J8SvywrwQ"
   },
   "source": [
    "In the above table we can see for TotalCharges there are no values.\n",
    "\n",
    "**From the all the 'TotalCharges' with missing value, we can see that it has a Tenure of 0**\n",
    "\n"
   ]
  },
  {
   "cell_type": "code",
   "execution_count": 18,
   "metadata": {
    "id": "FBcn5oboyDmW"
   },
   "outputs": [],
   "source": [
    "\"\"\"\n",
    "this feature is created to see if the totalcharges is based on or related to \n",
    "the total number of services opted by the customer (ie) To see if Customer has \n",
    "not opted for any service then the TotalCharges is left empty/missing .\n",
    "\"\"\"\n",
    "\n",
    "train['total_services_opted'] = (train[[ \n",
    " 'PhoneService',\n",
    " 'MultipleLines',\n",
    " 'InternetService',\n",
    " 'OnlineSecurity',\n",
    " 'OnlineBackup',\n",
    " 'DeviceProtection',\n",
    " 'TechSupport',\n",
    " 'StreamingTV',\n",
    " 'StreamingMovies']] == \"Yes\").sum(axis = 1)"
   ]
  },
  {
   "cell_type": "code",
   "execution_count": 19,
   "metadata": {
    "colab": {
     "base_uri": "https://localhost:8080/",
     "height": 989
    },
    "id": "02G1uZeE4j_w",
    "outputId": "72e21499-347a-447f-fd6c-131f163a248b"
   },
   "outputs": [
    {
     "data": {
      "text/html": [
       "<div>\n",
       "<style scoped>\n",
       "    .dataframe tbody tr th:only-of-type {\n",
       "        vertical-align: middle;\n",
       "    }\n",
       "\n",
       "    .dataframe tbody tr th {\n",
       "        vertical-align: top;\n",
       "    }\n",
       "\n",
       "    .dataframe thead th {\n",
       "        text-align: right;\n",
       "    }\n",
       "</style>\n",
       "<table border=\"1\" class=\"dataframe\">\n",
       "  <thead>\n",
       "    <tr style=\"text-align: right;\">\n",
       "      <th></th>\n",
       "      <th>Contract</th>\n",
       "      <th>tenure</th>\n",
       "      <th>MonthlyCharges</th>\n",
       "      <th>TotalCharges</th>\n",
       "      <th>total_services_opted</th>\n",
       "    </tr>\n",
       "  </thead>\n",
       "  <tbody>\n",
       "    <tr>\n",
       "      <th>488</th>\n",
       "      <td>Two year</td>\n",
       "      <td>0</td>\n",
       "      <td>52.55</td>\n",
       "      <td></td>\n",
       "      <td>4</td>\n",
       "    </tr>\n",
       "    <tr>\n",
       "      <th>3826</th>\n",
       "      <td>Two year</td>\n",
       "      <td>0</td>\n",
       "      <td>25.35</td>\n",
       "      <td></td>\n",
       "      <td>2</td>\n",
       "    </tr>\n",
       "    <tr>\n",
       "      <th>6754</th>\n",
       "      <td>Two year</td>\n",
       "      <td>0</td>\n",
       "      <td>61.90</td>\n",
       "      <td></td>\n",
       "      <td>5</td>\n",
       "    </tr>\n",
       "    <tr>\n",
       "      <th>1082</th>\n",
       "      <td>Two year</td>\n",
       "      <td>0</td>\n",
       "      <td>25.75</td>\n",
       "      <td></td>\n",
       "      <td>2</td>\n",
       "    </tr>\n",
       "    <tr>\n",
       "      <th>3331</th>\n",
       "      <td>Two year</td>\n",
       "      <td>0</td>\n",
       "      <td>19.85</td>\n",
       "      <td></td>\n",
       "      <td>1</td>\n",
       "    </tr>\n",
       "    <tr>\n",
       "      <th>6670</th>\n",
       "      <td>Two year</td>\n",
       "      <td>0</td>\n",
       "      <td>73.35</td>\n",
       "      <td></td>\n",
       "      <td>6</td>\n",
       "    </tr>\n",
       "    <tr>\n",
       "      <th>4380</th>\n",
       "      <td>Two year</td>\n",
       "      <td>0</td>\n",
       "      <td>20.00</td>\n",
       "      <td></td>\n",
       "      <td>1</td>\n",
       "    </tr>\n",
       "    <tr>\n",
       "      <th>1340</th>\n",
       "      <td>Two year</td>\n",
       "      <td>0</td>\n",
       "      <td>56.05</td>\n",
       "      <td></td>\n",
       "      <td>5</td>\n",
       "    </tr>\n",
       "    <tr>\n",
       "      <th>3310</th>\n",
       "      <td>Month-to-month</td>\n",
       "      <td>1</td>\n",
       "      <td>78.45</td>\n",
       "      <td>78.45</td>\n",
       "      <td>2</td>\n",
       "    </tr>\n",
       "    <tr>\n",
       "      <th>3917</th>\n",
       "      <td>Month-to-month</td>\n",
       "      <td>1</td>\n",
       "      <td>69.10</td>\n",
       "      <td>69.1</td>\n",
       "      <td>1</td>\n",
       "    </tr>\n",
       "    <tr>\n",
       "      <th>5825</th>\n",
       "      <td>Month-to-month</td>\n",
       "      <td>1</td>\n",
       "      <td>70.30</td>\n",
       "      <td>70.3</td>\n",
       "      <td>1</td>\n",
       "    </tr>\n",
       "    <tr>\n",
       "      <th>710</th>\n",
       "      <td>Month-to-month</td>\n",
       "      <td>1</td>\n",
       "      <td>19.55</td>\n",
       "      <td>19.55</td>\n",
       "      <td>1</td>\n",
       "    </tr>\n",
       "    <tr>\n",
       "      <th>27</th>\n",
       "      <td>Month-to-month</td>\n",
       "      <td>1</td>\n",
       "      <td>30.20</td>\n",
       "      <td>30.2</td>\n",
       "      <td>1</td>\n",
       "    </tr>\n",
       "    <tr>\n",
       "      <th>6080</th>\n",
       "      <td>Month-to-month</td>\n",
       "      <td>1</td>\n",
       "      <td>29.70</td>\n",
       "      <td>29.7</td>\n",
       "      <td>1</td>\n",
       "    </tr>\n",
       "    <tr>\n",
       "      <th>6489</th>\n",
       "      <td>Month-to-month</td>\n",
       "      <td>1</td>\n",
       "      <td>18.85</td>\n",
       "      <td>18.85</td>\n",
       "      <td>1</td>\n",
       "    </tr>\n",
       "    <tr>\n",
       "      <th>1249</th>\n",
       "      <td>Month-to-month</td>\n",
       "      <td>1</td>\n",
       "      <td>45.05</td>\n",
       "      <td>45.05</td>\n",
       "      <td>1</td>\n",
       "    </tr>\n",
       "    <tr>\n",
       "      <th>211</th>\n",
       "      <td>Month-to-month</td>\n",
       "      <td>1</td>\n",
       "      <td>25.25</td>\n",
       "      <td>25.25</td>\n",
       "      <td>0</td>\n",
       "    </tr>\n",
       "    <tr>\n",
       "      <th>1670</th>\n",
       "      <td>Month-to-month</td>\n",
       "      <td>1</td>\n",
       "      <td>50.15</td>\n",
       "      <td>50.15</td>\n",
       "      <td>2</td>\n",
       "    </tr>\n",
       "    <tr>\n",
       "      <th>4837</th>\n",
       "      <td>Month-to-month</td>\n",
       "      <td>1</td>\n",
       "      <td>69.80</td>\n",
       "      <td>69.8</td>\n",
       "      <td>1</td>\n",
       "    </tr>\n",
       "    <tr>\n",
       "      <th>295</th>\n",
       "      <td>Month-to-month</td>\n",
       "      <td>1</td>\n",
       "      <td>20.25</td>\n",
       "      <td>20.25</td>\n",
       "      <td>1</td>\n",
       "    </tr>\n",
       "    <tr>\n",
       "      <th>2388</th>\n",
       "      <td>Month-to-month</td>\n",
       "      <td>1</td>\n",
       "      <td>55.45</td>\n",
       "      <td>55.45</td>\n",
       "      <td>2</td>\n",
       "    </tr>\n",
       "    <tr>\n",
       "      <th>5450</th>\n",
       "      <td>Month-to-month</td>\n",
       "      <td>1</td>\n",
       "      <td>84.65</td>\n",
       "      <td>84.65</td>\n",
       "      <td>3</td>\n",
       "    </tr>\n",
       "    <tr>\n",
       "      <th>6816</th>\n",
       "      <td>Month-to-month</td>\n",
       "      <td>1</td>\n",
       "      <td>70.30</td>\n",
       "      <td>70.3</td>\n",
       "      <td>1</td>\n",
       "    </tr>\n",
       "    <tr>\n",
       "      <th>4172</th>\n",
       "      <td>Month-to-month</td>\n",
       "      <td>1</td>\n",
       "      <td>19.50</td>\n",
       "      <td>19.5</td>\n",
       "      <td>1</td>\n",
       "    </tr>\n",
       "    <tr>\n",
       "      <th>3888</th>\n",
       "      <td>Month-to-month</td>\n",
       "      <td>1</td>\n",
       "      <td>80.15</td>\n",
       "      <td>80.15</td>\n",
       "      <td>2</td>\n",
       "    </tr>\n",
       "    <tr>\n",
       "      <th>1651</th>\n",
       "      <td>Month-to-month</td>\n",
       "      <td>1</td>\n",
       "      <td>79.10</td>\n",
       "      <td>79.1</td>\n",
       "      <td>2</td>\n",
       "    </tr>\n",
       "    <tr>\n",
       "      <th>232</th>\n",
       "      <td>Month-to-month</td>\n",
       "      <td>1</td>\n",
       "      <td>84.60</td>\n",
       "      <td>84.6</td>\n",
       "      <td>3</td>\n",
       "    </tr>\n",
       "    <tr>\n",
       "      <th>4090</th>\n",
       "      <td>Month-to-month</td>\n",
       "      <td>1</td>\n",
       "      <td>49.90</td>\n",
       "      <td>49.9</td>\n",
       "      <td>2</td>\n",
       "    </tr>\n",
       "    <tr>\n",
       "      <th>287</th>\n",
       "      <td>Month-to-month</td>\n",
       "      <td>1</td>\n",
       "      <td>70.00</td>\n",
       "      <td>70</td>\n",
       "      <td>1</td>\n",
       "    </tr>\n",
       "    <tr>\n",
       "      <th>2821</th>\n",
       "      <td>Month-to-month</td>\n",
       "      <td>1</td>\n",
       "      <td>74.40</td>\n",
       "      <td>74.4</td>\n",
       "      <td>2</td>\n",
       "    </tr>\n",
       "  </tbody>\n",
       "</table>\n",
       "</div>"
      ],
      "text/plain": [
       "            Contract  tenure  MonthlyCharges TotalCharges  total_services_opted\n",
       "488         Two year       0           52.55                                  4\n",
       "3826        Two year       0           25.35                                  2\n",
       "6754        Two year       0           61.90                                  5\n",
       "1082        Two year       0           25.75                                  2\n",
       "3331        Two year       0           19.85                                  1\n",
       "6670        Two year       0           73.35                                  6\n",
       "4380        Two year       0           20.00                                  1\n",
       "1340        Two year       0           56.05                                  5\n",
       "3310  Month-to-month       1           78.45        78.45                     2\n",
       "3917  Month-to-month       1           69.10         69.1                     1\n",
       "5825  Month-to-month       1           70.30         70.3                     1\n",
       "710   Month-to-month       1           19.55        19.55                     1\n",
       "27    Month-to-month       1           30.20         30.2                     1\n",
       "6080  Month-to-month       1           29.70         29.7                     1\n",
       "6489  Month-to-month       1           18.85        18.85                     1\n",
       "1249  Month-to-month       1           45.05        45.05                     1\n",
       "211   Month-to-month       1           25.25        25.25                     0\n",
       "1670  Month-to-month       1           50.15        50.15                     2\n",
       "4837  Month-to-month       1           69.80         69.8                     1\n",
       "295   Month-to-month       1           20.25        20.25                     1\n",
       "2388  Month-to-month       1           55.45        55.45                     2\n",
       "5450  Month-to-month       1           84.65        84.65                     3\n",
       "6816  Month-to-month       1           70.30         70.3                     1\n",
       "4172  Month-to-month       1           19.50         19.5                     1\n",
       "3888  Month-to-month       1           80.15        80.15                     2\n",
       "1651  Month-to-month       1           79.10         79.1                     2\n",
       "232   Month-to-month       1           84.60         84.6                     3\n",
       "4090  Month-to-month       1           49.90         49.9                     2\n",
       "287   Month-to-month       1           70.00           70                     1\n",
       "2821  Month-to-month       1           74.40         74.4                     2"
      ]
     },
     "execution_count": 19,
     "metadata": {
      "tags": []
     },
     "output_type": "execute_result"
    }
   ],
   "source": [
    "train.loc[:,['Contract','tenure', 'MonthlyCharges', 'TotalCharges','total_services_opted']].sort_values(by=['tenure']).head(30)"
   ]
  },
  {
   "cell_type": "markdown",
   "metadata": {
    "id": "GEhUV2pL5t0k"
   },
   "source": [
    "From the above we can understand that approx **(TotalCharges) = tenure * MonthlyCharges**\n",
    "\n",
    "So we can replace the missing values with same formula"
   ]
  },
  {
   "cell_type": "code",
   "execution_count": 20,
   "metadata": {
    "colab": {
     "base_uri": "https://localhost:8080/"
    },
    "id": "HBmzrFV5iZqC",
    "outputId": "1f6c3c4b-14d0-4db6-8387-7df42db6ad23"
   },
   "outputs": [
    {
     "name": "stdout",
     "output_type": "stream",
     "text": [
      "Count of Missing Values in TotalCharges is 8\n"
     ]
    }
   ],
   "source": [
    "print(\"Count of Missing Values in TotalCharges is\",TotalCharges_missing.shape[0])"
   ]
  },
  {
   "cell_type": "code",
   "execution_count": 21,
   "metadata": {
    "colab": {
     "base_uri": "https://localhost:8080/"
    },
    "id": "IXaFtQ7kks8E",
    "outputId": "0d695806-c2af-4477-c227-a59b26c382cf"
   },
   "outputs": [
    {
     "name": "stdout",
     "output_type": "stream",
     "text": [
      "'   '\n"
     ]
    }
   ],
   "source": [
    "print(\"'\",train.loc[488]['TotalCharges'],\"'\")\n",
    "# this shows that around 11 rows contain empty spaces, it is NULL value"
   ]
  },
  {
   "cell_type": "code",
   "execution_count": 22,
   "metadata": {
    "colab": {
     "base_uri": "https://localhost:8080/"
    },
    "id": "DPXaAsnNnWtb",
    "outputId": "8cedb53f-055a-4fd6-deea-3d50e0508b30"
   },
   "outputs": [
    {
     "data": {
      "text/plain": [
       "Int64Index([6670, 3826, 4380, 488, 1082, 1340, 6754, 3331], dtype='int64')"
      ]
     },
     "execution_count": 22,
     "metadata": {
      "tags": []
     },
     "output_type": "execute_result"
    }
   ],
   "source": [
    "# the following are the index numbers of the rows with missing values\n",
    "TotalCharges_missing.index"
   ]
  },
  {
   "cell_type": "code",
   "execution_count": 23,
   "metadata": {
    "id": "vHJJrAZblvYp"
   },
   "outputs": [],
   "source": [
    "for idx in TotalCharges_missing.index:\n",
    "  train.loc[idx,'TotalCharges'] = train.loc[idx]['tenure'] * train.loc[idx]['MonthlyCharges']"
   ]
  },
  {
   "cell_type": "code",
   "execution_count": 24,
   "metadata": {
    "colab": {
     "base_uri": "https://localhost:8080/"
    },
    "id": "4DL7fsYpZ2Qq",
    "outputId": "c364e8ce-ad35-44fa-a699-73422d7e4fe9"
   },
   "outputs": [
    {
     "name": "stdout",
     "output_type": "stream",
     "text": [
      "Index:  3826 - It's TotalCharges is 0.0\n"
     ]
    }
   ],
   "source": [
    "print(\"Index: \", TotalCharges_missing.index[1],\"- It's TotalCharges is\",train.loc[TotalCharges_missing.index[1],'TotalCharges'])"
   ]
  },
  {
   "cell_type": "code",
   "execution_count": 25,
   "metadata": {
    "colab": {
     "base_uri": "https://localhost:8080/"
    },
    "id": "X1FtwYpEvGmA",
    "outputId": "fa25a6f9-212f-4da7-cf2d-42b99ba824eb"
   },
   "outputs": [
    {
     "data": {
      "text/plain": [
       "dtype('float64')"
      ]
     },
     "execution_count": 25,
     "metadata": {
      "tags": []
     },
     "output_type": "execute_result"
    }
   ],
   "source": [
    "# Convert the Object DataType of \"TotalCharges\" to Float\n",
    "train['TotalCharges'] = train['TotalCharges'].astype(str).astype(float)\n",
    "train['TotalCharges'].dtype"
   ]
  },
  {
   "cell_type": "markdown",
   "metadata": {
    "id": "WTcz9lSHCxnh"
   },
   "source": [
    "Now we do not have the need of the feature \"total_services_opted\" created by us, as it did not provide any information with respect to TotalCharges. So let us drop it. "
   ]
  },
  {
   "cell_type": "code",
   "execution_count": 26,
   "metadata": {
    "id": "F48e7sTRCwV0"
   },
   "outputs": [],
   "source": [
    "train.drop('total_services_opted', axis = 1, inplace = True)"
   ]
  },
  {
   "cell_type": "code",
   "execution_count": 27,
   "metadata": {
    "colab": {
     "base_uri": "https://localhost:8080/"
    },
    "id": "k24rtRUxMgnb",
    "outputId": "000d670d-642f-4ae1-8f7c-a9d29631426b"
   },
   "outputs": [
    {
     "data": {
      "text/plain": [
       "['customerID',\n",
       " 'gender',\n",
       " 'Partner',\n",
       " 'Dependents',\n",
       " 'SeniorCitizen',\n",
       " 'PhoneService',\n",
       " 'MultipleLines',\n",
       " 'InternetService',\n",
       " 'OnlineSecurity',\n",
       " 'OnlineBackup',\n",
       " 'DeviceProtection',\n",
       " 'TechSupport',\n",
       " 'StreamingTV',\n",
       " 'StreamingMovies',\n",
       " 'Contract',\n",
       " 'PaperlessBilling',\n",
       " 'PaymentMethod',\n",
       " 'Churn']"
      ]
     },
     "execution_count": 27,
     "metadata": {
      "tags": []
     },
     "output_type": "execute_result"
    }
   ],
   "source": [
    "# creating separate lists for categorical and numerical features  \n",
    "categorical_features = []\n",
    "numerical_features = []\n",
    "for feature in train.columns:\n",
    "  if train[feature].dtype == 'O':\n",
    "    categorical_features.append(feature)\n",
    "  else:\n",
    "    numerical_features.append(feature)\n",
    "numerical_features.remove(\"SeniorCitizen\")\n",
    "categorical_features.insert(4, \"SeniorCitizen\") # inseart 'SeniorCitizen' in 4th place\n",
    "categorical_features"
   ]
  },
  {
   "cell_type": "code",
   "execution_count": 28,
   "metadata": {
    "id": "rXX827-dhFkY"
   },
   "outputs": [],
   "source": [
    "def count_percentage_subplots(features_list, rows, cols, huee, dataa, x_ticks_rotation = 0, figsize_row = 14, figsize_col = 9 , prcnt_color = 'white', prcnt_height = -100 ):\n",
    "  fig = plt.figure(figsize = (figsize_row, figsize_col))\n",
    "  ax_list = []\n",
    "  for i in range(1,cols * rows+1):\n",
    "    ax_list.append(\"ax\"+str(i))\n",
    "  for index,ax_name in enumerate(ax_list): # for features \n",
    "    ax_name = plt.subplot(rows, cols, index+1)\n",
    "    feature = features_list[index]\n",
    "    sns.countplot(x=feature , hue = huee, data= dataa, order = sorted(list(dataa[feature].unique())))\n",
    "    plt.xticks(rotation= x_ticks_rotation)\n",
    "    for index,p in enumerate(ax_name.patches):\n",
    "      height = p.get_height()\n",
    "      temp = list(round(dataa.groupby(huee)[feature].value_counts(sort = False)/len(dataa)*100,2))\n",
    "      ax_name.text(p.get_x()+p.get_width()/2., height+prcnt_height, str(temp[index]) + \"%\", horizontalalignment='center', fontsize=11, color=prcnt_color, weight = 'heavy') \n",
    "      \n",
    "  fig. tight_layout(pad=4.0)\n",
    "  plt.show()"
   ]
  },
  {
   "cell_type": "code",
   "execution_count": 29,
   "metadata": {
    "colab": {
     "base_uri": "https://localhost:8080/",
     "height": 527
    },
    "id": "6cMxSgSjztqQ",
    "outputId": "bbd3cd7b-ffe6-4511-fcee-42dd42d1f0a9"
   },
   "outputs": [
    {
     "data": {
      "image/png": "[encoded data removed]",
      "text/plain": [
       "<Figure size 1008x576 with 4 Axes>"
      ]
     },
     "metadata": {
      "needs_background": "light",
      "tags": []
     },
     "output_type": "display_data"
    }
   ],
   "source": [
    "count_percentage_subplots(['gender', 'Partner', 'Dependents', 'SeniorCitizen'],2,2, \"Churn\", train, figsize_row = 14, figsize_col = 8 )"
   ]
  },
  {
   "cell_type": "markdown",
   "metadata": {
    "id": "Dcr26elpxZmf"
   },
   "source": [
    "**Observation:**\n",
    "\n",
    "*   The ratio of male and female customer are same\n",
    "*   Customers without Partner or dependent churn more than those who dont\n",
    "\n"
   ]
  },
  {
   "cell_type": "code",
   "execution_count": 30,
   "metadata": {
    "colab": {
     "base_uri": "https://localhost:8080/",
     "height": 311
    },
    "id": "uHzgU7qRgLkp",
    "outputId": "7a2b2746-a70f-4d6d-b24c-c28fbf1d67e8"
   },
   "outputs": [
    {
     "data": {
      "image/png": "[encoded data removed]",
      "text/plain": [
       "<Figure size 864x360 with 2 Axes>"
      ]
     },
     "metadata": {
      "needs_background": "light",
      "tags": []
     },
     "output_type": "display_data"
    }
   ],
   "source": [
    "count_percentage_subplots(['PhoneService','MultipleLines'],1,2, \"Churn\", train, figsize_row = 12, figsize_col = 5 )"
   ]
  },
  {
   "cell_type": "code",
   "execution_count": 31,
   "metadata": {
    "colab": {
     "base_uri": "https://localhost:8080/",
     "height": 311
    },
    "id": "PV6j_5BM021E",
    "outputId": "6c954acb-1145-4f9c-a57c-fb70d2f6a3fa"
   },
   "outputs": [
    {
     "data": {
      "image/png": "[encoded data removed]",
      "text/plain": [
       "<Figure size 504x360 with 1 Axes>"
      ]
     },
     "metadata": {
      "needs_background": "light",
      "tags": []
     },
     "output_type": "display_data"
    }
   ],
   "source": [
    "count_percentage_subplots(['InternetService'],1,1, \"Churn\", train, figsize_row = 7, figsize_col = 5 )"
   ]
  },
  {
   "cell_type": "markdown",
   "metadata": {
    "id": "DJpJLAVqgUTI"
   },
   "source": [
    "**Observation:**\n",
    "\n",
    "*   Customer with \"Fiber optic\" have high churn rate\n",
    "\n"
   ]
  },
  {
   "cell_type": "code",
   "execution_count": 32,
   "metadata": {
    "colab": {
     "base_uri": "https://localhost:8080/",
     "height": 633
    },
    "id": "abpc7p0Ahn5b",
    "outputId": "68a735e8-67f3-4ac3-9a09-5bd3c1bf045e"
   },
   "outputs": [
    {
     "data": {
      "image/png": "[encoded data removed]",
      "text/plain": [
       "<Figure size 1296x720 with 6 Axes>"
      ]
     },
     "metadata": {
      "needs_background": "light",
      "tags": []
     },
     "output_type": "display_data"
    }
   ],
   "source": [
    "count_percentage_subplots(['OnlineSecurity', 'OnlineBackup', 'DeviceProtection', 'TechSupport', 'StreamingTV', 'StreamingMovies'],\n",
    "                         2,3, \"Churn\", train, figsize_row = 18, figsize_col = 10 )"
   ]
  },
  {
   "cell_type": "markdown",
   "metadata": {
    "id": "CWI9e_5VhrVx"
   },
   "source": [
    "**Observation:**\n",
    "* A Customer who has internet service but does not have any of the following are more likely to churn.\n",
    "    * \"OnlineBackup\" \n",
    "    * \"DeviceProtection\" \n",
    "    * \"Online Security\"\n",
    "    * \"TechSupport\" \n",
    "  \n"
   ]
  },
  {
   "cell_type": "code",
   "execution_count": 33,
   "metadata": {
    "colab": {
     "base_uri": "https://localhost:8080/",
     "height": 383
    },
    "id": "rgGutco7llzf",
    "outputId": "4bb32364-b54f-46aa-8104-9480a0bbe088"
   },
   "outputs": [
    {
     "data": {
      "image/png": "[encoded data removed]",
      "text/plain": [
       "<Figure size 1152x432 with 3 Axes>"
      ]
     },
     "metadata": {
      "needs_background": "light",
      "tags": []
     },
     "output_type": "display_data"
    }
   ],
   "source": [
    " count_percentage_subplots(['Contract','PaperlessBilling','PaymentMethod'],1,3, \"Churn\", train, figsize_row =16 , figsize_col = 6 ,x_ticks_rotation = 25,prcnt_color = 'black')"
   ]
  },
  {
   "cell_type": "markdown",
   "metadata": {
    "id": "8EiHMTwnl9IK"
   },
   "source": [
    "**Observation:**\n",
    "* Customers with month-to-month contract have a high churn rate with 23.54%\n",
    "\n",
    "* Check and cheque are examples of differences in spelling between British and American English. So Payment Method \"Electronic check\" and \"Mailed check\" are manual method of payements and \"Credit card\" and \"Bank transfer\" are automatic payments which does not involve the customer for each payments.\n",
    "* Customer paying with electronic check also have a high churn rate around 15.35%....this explain that why the churn of customers with paper billing is high.\n"
   ]
  },
  {
   "cell_type": "code",
   "execution_count": 34,
   "metadata": {
    "colab": {
     "base_uri": "https://localhost:8080/",
     "height": 913
    },
    "id": "JaDRN_nMKMOI",
    "outputId": "f28c4311-3cd2-47d0-b097-a60b95318a48"
   },
   "outputs": [
    {
     "data": {
      "image/png": "[encoded data removed]",
      "text/plain": [
       "<Figure size 720x288 with 2 Axes>"
      ]
     },
     "metadata": {
      "needs_background": "light",
      "tags": []
     },
     "output_type": "display_data"
    },
    {
     "name": "stdout",
     "output_type": "stream",
     "text": [
      "\n",
      "\n"
     ]
    },
    {
     "data": {
      "image/png": "[encoded data removed]",
      "text/plain": [
       "<Figure size 720x288 with 2 Axes>"
      ]
     },
     "metadata": {
      "needs_background": "light",
      "tags": []
     },
     "output_type": "display_data"
    },
    {
     "name": "stdout",
     "output_type": "stream",
     "text": [
      "\n",
      "\n"
     ]
    },
    {
     "data": {
      "image/png": "[encoded data removed]",
      "text/plain": [
       "<Figure size 720x288 with 2 Axes>"
      ]
     },
     "metadata": {
      "needs_background": "light",
      "tags": []
     },
     "output_type": "display_data"
    },
    {
     "name": "stdout",
     "output_type": "stream",
     "text": [
      "\n",
      "\n"
     ]
    }
   ],
   "source": [
    "for feature in numerical_features[0:3]:\n",
    "\n",
    "  fig = plt.figure(figsize = (10,4))\n",
    "  \n",
    "  ax1 = plt.subplot(1,2,1)\n",
    "  ax1.set_title(feature)\n",
    "  plt.hist(train[feature], bins =20)\n",
    "  \n",
    "  ax2 = plt.subplot(1,2,2)\n",
    "  plt.hist(train[train['Churn'] == 'Yes'][feature], bins = 20,alpha = 0.5, label = 'Churn', density = True)\n",
    "  plt.hist(train[train['Churn'] == 'No'][feature], bins = 20,alpha = 0.5, label = 'No Churn', density = True)\n",
    "  # ax2.hist(train[feature], hue = train['Churn'],bins =20)\n",
    "  ax2.set_title(feature+\"Distribution - Churn VS No-Churn\")\n",
    "  ax2.legend(loc = 'upper right')\n",
    "  plt.show()\n",
    "  print(\"\\n\")"
   ]
  },
  {
   "cell_type": "markdown",
   "metadata": {
    "id": "Donwms2Wl2E3"
   },
   "source": [
    "**Observation:**\n",
    "\n",
    "* We can see that the Churn customers have a shorter tenure, which means that the newly joined customers are not satisfied with our services or facing some issues.\n",
    "* The Churn Customer have a high monthly charges than those who don't."
   ]
  },
  {
   "cell_type": "markdown",
   "metadata": {
    "id": "emUP_iK1IZy-"
   },
   "source": [
    "#### **Outlier Detection**"
   ]
  },
  {
   "cell_type": "code",
   "execution_count": 35,
   "metadata": {
    "colab": {
     "base_uri": "https://localhost:8080/",
     "height": 907
    },
    "id": "ZpsSgzEbp7Dt",
    "outputId": "b3cd53fc-4070-417b-c00a-9c53ec319805"
   },
   "outputs": [
    {
     "data": {
      "image/png": "[encoded data removed]",
      "text/plain": [
       "<Figure size 864x288 with 2 Axes>"
      ]
     },
     "metadata": {
      "needs_background": "light",
      "tags": []
     },
     "output_type": "display_data"
    },
    {
     "name": "stdout",
     "output_type": "stream",
     "text": [
      "\n",
      "\n"
     ]
    },
    {
     "data": {
      "image/png": "[encoded data removed]",
      "text/plain": [
       "<Figure size 864x288 with 2 Axes>"
      ]
     },
     "metadata": {
      "needs_background": "light",
      "tags": []
     },
     "output_type": "display_data"
    },
    {
     "name": "stdout",
     "output_type": "stream",
     "text": [
      "\n",
      "\n"
     ]
    },
    {
     "data": {
      "image/png": "[encoded data removed]",
      "text/plain": [
       "<Figure size 864x288 with 2 Axes>"
      ]
     },
     "metadata": {
      "needs_background": "light",
      "tags": []
     },
     "output_type": "display_data"
    },
    {
     "name": "stdout",
     "output_type": "stream",
     "text": [
      "\n",
      "\n"
     ]
    }
   ],
   "source": [
    "for feature in numerical_features:\n",
    "  fig, axes = plt.subplots(1,2,figsize=(12,4))\n",
    "  sns.boxplot(x = feature , data = train, ax=axes[0], palette=\"Set2\")\n",
    "  sns.boxplot(x = feature , data = train, y = 'Churn',ax=axes[1])\n",
    "  plt.show()\n",
    "  print(\"\\n\")"
   ]
  },
  {
   "cell_type": "markdown",
   "metadata": {
    "id": "JBn8XIDLruM_"
   },
   "source": [
    "**Observation:**\n",
    "* From the left images we can observe that all three numerical features do not have any outliers.\n",
    "\n",
    "* From the right images we can see that\n",
    "  *   Churn Customers have very short tenure\n",
    "  *   Churn Customer Median Monthy charges is greater than Non Churn Customer\n",
    "  *   The Churn Customer have less Total Charges\n",
    "\n"
   ]
  },
  {
   "cell_type": "markdown",
   "metadata": {
    "id": "jXZ7o_F3NOLg"
   },
   "source": [
    "## **Feature Engineering**"
   ]
  },
  {
   "cell_type": "markdown",
   "metadata": {
    "id": "Yp8Hl9C-O-4j"
   },
   "source": [
    "Using EDA we have understood how the train data is. So let us start the preprocessing steps."
   ]
  },
  {
   "cell_type": "markdown",
   "metadata": {
    "id": "_MZ-kCA9ju-v"
   },
   "source": [
    "#### **Renaming Some Feature**"
   ]
  },
  {
   "cell_type": "code",
   "execution_count": 36,
   "metadata": {
    "id": "IJP0DwSpfCOr"
   },
   "outputs": [],
   "source": [
    "x_train.rename(columns={'gender':'Gender'\n",
    "                       ,'Contract':'ContractType'\n",
    "                       ,'tenure':'Tenure'\n",
    "                      }\n",
    "              ,inplace=True)"
   ]
  },
  {
   "cell_type": "code",
   "execution_count": 37,
   "metadata": {
    "id": "r7GCuXbwTTzO"
   },
   "outputs": [],
   "source": [
    "x_test.rename(columns={'gender':'Gender'\n",
    "                       ,'Contract':'ContractType'\n",
    "                       ,'tenure':'Tenure'\n",
    "                      }\n",
    "              ,inplace=True)"
   ]
  },
  {
   "cell_type": "code",
   "execution_count": 38,
   "metadata": {
    "id": "RHwk-uwDQdNJ"
   },
   "outputs": [],
   "source": [
    "# renaming these features in train dataframe will be helpful for some of the preprocessing steps\n",
    "train.rename(columns={'gender':'Gender'\n",
    "                       ,'Contract':'ContractType'\n",
    "                       ,'tenure':'Tenure'\n",
    "                      }\n",
    "              ,inplace=True)"
   ]
  },
  {
   "cell_type": "markdown",
   "metadata": {
    "id": "bQYPGmZXs31-"
   },
   "source": [
    "#### **Feature Selection Using Statistical Test**"
   ]
  },
  {
   "cell_type": "markdown",
   "metadata": {
    "id": "vqsve2zYZnqe"
   },
   "source": [
    "**T-TEST FOR FEATURE SELECTION OF CATEGORICAL (TARGET) VS CONTINUOUS FEATURE**\n",
    "\n",
    "Here T-Test is taken because the feature churn has only two groups  \"Churn\" and \"Not Churn\""
   ]
  },
  {
   "cell_type": "code",
   "execution_count": 39,
   "metadata": {
    "id": "qWaWfVGoAmlC"
   },
   "outputs": [],
   "source": [
    "def TTest(data, target, Continuous_features):\n",
    "\n",
    "    RemoveFeatures=[]\n",
    "    \n",
    "    print('The T-Test result are : ')\n",
    "    for feature in Continuous_features:\n",
    "        feature_data = data.groupby(target)[feature].apply(list)\n",
    "        pvalue = ttest_ind(*feature_data)[1]\n",
    "        # If the T-Test P-Value is <0.05, that means we reject H0\n",
    "        if (pvalue < 0.05):\n",
    "            print(feature, 'is correlated with', target , '| P-Value:', pvalue)\n",
    "        else:\n",
    "            print(feature, 'is NOT correlated with', target , '| P-Value:', pvalue)\n",
    "            RemoveFeatures.append(feature)\n",
    "    print(\"\\n\\n\")\n",
    "    return(RemoveFeatures)"
   ]
  },
  {
   "cell_type": "code",
   "execution_count": 40,
   "metadata": {
    "colab": {
     "base_uri": "https://localhost:8080/"
    },
    "id": "mg2MDFd4c0ZG",
    "outputId": "6efdce92-fa32-439b-eb1e-f044cf5f0cd9"
   },
   "outputs": [
    {
     "name": "stdout",
     "output_type": "stream",
     "text": [
      "The T-Test result are : \n",
      "Tenure is correlated with Churn | P-Value: 6.74501164643183e-146\n",
      "MonthlyCharges is correlated with Churn | P-Value: 1.5695206211219092e-47\n",
      "TotalCharges is correlated with Churn | P-Value: 5.629487289697649e-45\n",
      "\n",
      "\n",
      "\n",
      "Features to be removed are : []\n"
     ]
    }
   ],
   "source": [
    "# Calling the function to check which categorical variables are correlated with target\n",
    "Continuous_features =['Tenure', 'MonthlyCharges', 'TotalCharges']\n",
    "remove_features_con = TTest(data=train, target='Churn', Continuous_features = Continuous_features)\n",
    "print(\"Features to be removed are :\",remove_features_con)"
   ]
  },
  {
   "cell_type": "markdown",
   "metadata": {
    "id": "w7zERaDkY-vy"
   },
   "source": [
    "**CHI SQUARE TEST FOR FEATURE SELECTION OF CATEGORICAL (TARGET) VS CATEGORICAL FEATURE**"
   ]
  },
  {
   "cell_type": "code",
   "execution_count": 41,
   "metadata": {
    "id": "P-wHDruqQcam"
   },
   "outputs": [],
   "source": [
    "# creating new list of categorical features after changing spelling of features\n",
    "categorical_features= list(x_train.columns)\n",
    "for con in ['Tenure', 'MonthlyCharges', 'TotalCharges']:\n",
    "  categorical_features.remove(con)"
   ]
  },
  {
   "cell_type": "code",
   "execution_count": 42,
   "metadata": {
    "id": "E2i7frwtQQ-H"
   },
   "outputs": [],
   "source": [
    "# Writing a function to find the correlation of all categorical variables with the Target variable\n",
    "def ChiSquare( data, target, categorical_features):\n",
    "    \n",
    "    # Creating an empty list of final selected predictors\n",
    "    RemoveFeatures=[]\n",
    "\n",
    "    print('The ChiSquare result are : \\n')\n",
    "    for feature in categorical_features:\n",
    "        CrossTabResult=pd.crosstab(index = data[target], columns=data[feature])\n",
    "        pvalue = chi2_contingency(CrossTabResult)[1]\n",
    "        # print(Result)\n",
    "        # If the ChiSquare P-Value is <0.05, that means we reject H0\n",
    "        if (pvalue < 0.05):\n",
    "            print(feature, 'is correlated with', target, '| P-Value:', pvalue)\n",
    "        else:\n",
    "            print(feature, 'is \\033[1m NOT \\033[0m correlated with', target, '| P-Value:', pvalue)   \n",
    "            RemoveFeatures.append(feature)     \n",
    "    print(\"\\n\\n\")\n",
    "    return(RemoveFeatures)"
   ]
  },
  {
   "cell_type": "code",
   "execution_count": 43,
   "metadata": {
    "colab": {
     "base_uri": "https://localhost:8080/"
    },
    "id": "IQZekANDTPs1",
    "outputId": "82e4de25-92b9-47c7-a18a-666780cdc246"
   },
   "outputs": [
    {
     "name": "stdout",
     "output_type": "stream",
     "text": [
      "The ChiSquare result are : \n",
      "\n",
      "customerID is \u001b[1m NOT \u001b[0m correlated with Churn | P-Value: 0.4935308220743649\n",
      "Gender is \u001b[1m NOT \u001b[0m correlated with Churn | P-Value: 0.9133053640134722\n",
      "SeniorCitizen is correlated with Churn | P-Value: 1.272738902968206e-26\n",
      "Partner is correlated with Churn | P-Value: 3.2051580573988954e-26\n",
      "Dependents is correlated with Churn | P-Value: 1.5736459837130873e-33\n",
      "PhoneService is \u001b[1m NOT \u001b[0m correlated with Churn | P-Value: 0.11545819531090502\n",
      "MultipleLines is correlated with Churn | P-Value: 0.004920729444037898\n",
      "InternetService is correlated with Churn | P-Value: 7.816331813947432e-122\n",
      "OnlineSecurity is correlated with Churn | P-Value: 3.1008969206083305e-142\n",
      "OnlineBackup is correlated with Churn | P-Value: 1.7543681370437227e-100\n",
      "DeviceProtection is correlated with Churn | P-Value: 1.0712098242548213e-91\n",
      "TechSupport is correlated with Churn | P-Value: 7.966555837638945e-139\n",
      "StreamingTV is correlated with Churn | P-Value: 2.9763744289949415e-62\n",
      "StreamingMovies is correlated with Churn | P-Value: 1.5926291887016254e-62\n",
      "ContractType is correlated with Churn | P-Value: 8.584733326965403e-193\n",
      "PaperlessBilling is correlated with Churn | P-Value: 1.1159348460957409e-48\n",
      "PaymentMethod is correlated with Churn | P-Value: 2.289591507114095e-106\n",
      "\n",
      "\n",
      "\n",
      "Features to be removed are : ['customerID', 'Gender', 'PhoneService']\n"
     ]
    }
   ],
   "source": [
    "remove_features_cat = ChiSquare(data = train, target = 'Churn', categorical_features = categorical_features)\n",
    "print(\"Features to be removed are :\",remove_features_cat)\n"
   ]
  },
  {
   "cell_type": "markdown",
   "metadata": {
    "id": "nCqgPExxg1Qs"
   },
   "source": [
    "#### **Dropping Variables**"
   ]
  },
  {
   "cell_type": "code",
   "execution_count": 44,
   "metadata": {
    "colab": {
     "base_uri": "https://localhost:8080/",
     "height": 215
    },
    "id": "0Lxtdfy4g-Mm",
    "outputId": "acbdbb51-7033-4f6b-c6a9-87773f4fa76f"
   },
   "outputs": [
    {
     "data": {
      "text/html": [
       "<div>\n",
       "<style scoped>\n",
       "    .dataframe tbody tr th:only-of-type {\n",
       "        vertical-align: middle;\n",
       "    }\n",
       "\n",
       "    .dataframe tbody tr th {\n",
       "        vertical-align: top;\n",
       "    }\n",
       "\n",
       "    .dataframe thead th {\n",
       "        text-align: right;\n",
       "    }\n",
       "</style>\n",
       "<table border=\"1\" class=\"dataframe\">\n",
       "  <thead>\n",
       "    <tr style=\"text-align: right;\">\n",
       "      <th></th>\n",
       "      <th>SeniorCitizen</th>\n",
       "      <th>Partner</th>\n",
       "      <th>Dependents</th>\n",
       "      <th>Tenure</th>\n",
       "      <th>MultipleLines</th>\n",
       "      <th>InternetService</th>\n",
       "      <th>OnlineSecurity</th>\n",
       "      <th>OnlineBackup</th>\n",
       "      <th>DeviceProtection</th>\n",
       "      <th>TechSupport</th>\n",
       "      <th>StreamingTV</th>\n",
       "      <th>StreamingMovies</th>\n",
       "      <th>ContractType</th>\n",
       "      <th>PaperlessBilling</th>\n",
       "      <th>PaymentMethod</th>\n",
       "      <th>MonthlyCharges</th>\n",
       "      <th>TotalCharges</th>\n",
       "    </tr>\n",
       "  </thead>\n",
       "  <tbody>\n",
       "    <tr>\n",
       "      <th>6661</th>\n",
       "      <td>0</td>\n",
       "      <td>Yes</td>\n",
       "      <td>Yes</td>\n",
       "      <td>72</td>\n",
       "      <td>No phone service</td>\n",
       "      <td>DSL</td>\n",
       "      <td>No</td>\n",
       "      <td>Yes</td>\n",
       "      <td>No</td>\n",
       "      <td>Yes</td>\n",
       "      <td>Yes</td>\n",
       "      <td>Yes</td>\n",
       "      <td>Two year</td>\n",
       "      <td>No</td>\n",
       "      <td>Credit card (automatic)</td>\n",
       "      <td>53.65</td>\n",
       "      <td>3784</td>\n",
       "    </tr>\n",
       "    <tr>\n",
       "      <th>4811</th>\n",
       "      <td>0</td>\n",
       "      <td>No</td>\n",
       "      <td>No</td>\n",
       "      <td>4</td>\n",
       "      <td>No</td>\n",
       "      <td>DSL</td>\n",
       "      <td>No</td>\n",
       "      <td>No</td>\n",
       "      <td>No</td>\n",
       "      <td>No</td>\n",
       "      <td>No</td>\n",
       "      <td>No</td>\n",
       "      <td>Month-to-month</td>\n",
       "      <td>Yes</td>\n",
       "      <td>Mailed check</td>\n",
       "      <td>46.00</td>\n",
       "      <td>193.6</td>\n",
       "    </tr>\n",
       "    <tr>\n",
       "      <th>2193</th>\n",
       "      <td>0</td>\n",
       "      <td>No</td>\n",
       "      <td>Yes</td>\n",
       "      <td>56</td>\n",
       "      <td>No</td>\n",
       "      <td>No</td>\n",
       "      <td>No internet service</td>\n",
       "      <td>No internet service</td>\n",
       "      <td>No internet service</td>\n",
       "      <td>No internet service</td>\n",
       "      <td>No internet service</td>\n",
       "      <td>No internet service</td>\n",
       "      <td>One year</td>\n",
       "      <td>Yes</td>\n",
       "      <td>Mailed check</td>\n",
       "      <td>21.20</td>\n",
       "      <td>1238.65</td>\n",
       "    </tr>\n",
       "  </tbody>\n",
       "</table>\n",
       "</div>"
      ],
      "text/plain": [
       "      SeniorCitizen Partner  ... MonthlyCharges  TotalCharges\n",
       "6661              0     Yes  ...          53.65          3784\n",
       "4811              0      No  ...          46.00         193.6\n",
       "2193              0      No  ...          21.20       1238.65\n",
       "\n",
       "[3 rows x 17 columns]"
      ]
     },
     "execution_count": 44,
     "metadata": {
      "tags": []
     },
     "output_type": "execute_result"
    }
   ],
   "source": [
    "x_train.drop(remove_features_cat, axis = 1, inplace = True)\n",
    "x_train.head(3)"
   ]
  },
  {
   "cell_type": "code",
   "execution_count": 45,
   "metadata": {
    "id": "j2HYe6GShBQV"
   },
   "outputs": [],
   "source": [
    "x_test.drop(remove_features_cat, axis = 1, inplace = True )"
   ]
  },
  {
   "cell_type": "markdown",
   "metadata": {
    "id": "Laicze2he4BG"
   },
   "source": [
    "#### **Encoding of Categorical Features**"
   ]
  },
  {
   "cell_type": "code",
   "execution_count": 46,
   "metadata": {
    "colab": {
     "base_uri": "https://localhost:8080/"
    },
    "id": "YiiBeM7b30eG",
    "outputId": "47b2c8f2-3b44-4cc0-b92b-e6dbb22fd46e"
   },
   "outputs": [
    {
     "data": {
      "text/plain": [
       "6661    0\n",
       "4811    1\n",
       "2193    0\n",
       "Name: Churn, dtype: int64"
      ]
     },
     "execution_count": 46,
     "metadata": {
      "tags": []
     },
     "output_type": "execute_result"
    }
   ],
   "source": [
    "# manual label encoding if y_train features\n",
    "y_train = y_train.map({'Yes':1,'No':0})\n",
    "y_train.head(3)"
   ]
  },
  {
   "cell_type": "code",
   "execution_count": 47,
   "metadata": {
    "id": "ax_m4dy3TXsh"
   },
   "outputs": [],
   "source": [
    "y_test = y_test.map({'Yes':1,'No':0})"
   ]
  },
  {
   "cell_type": "code",
   "execution_count": 48,
   "metadata": {
    "id": "7rrYd9YPfeFZ"
   },
   "outputs": [],
   "source": [
    "# manual label encoding if x_train features\n",
    "for feature in ['Partner', 'Dependents', 'PaperlessBilling']:\n",
    "  x_train[feature] = x_train[feature].map({'Yes':1,'No':0})\n",
    "  x_test[feature] = x_test[feature].map({'Yes':1,'No':0})\n",
    "\n",
    "x_train['MultipleLines'] = x_train.MultipleLines.map({'Yes':1,'No':0,'No phone service':0})\n",
    "x_train['ContractType'] = x_train.ContractType.map({'One year':1,'Two year':1,'Month-to-month':0})\n",
    "\n",
    "x_test['MultipleLines'] = x_test.MultipleLines.map({'Yes':1,'No':0,'No phone service':0})\n",
    "x_test['ContractType'] = x_test.ContractType.map({'One year':1,'Two year':1,'Month-to-month':0})\n",
    "\n",
    "for feature in ['OnlineSecurity', 'OnlineBackup', 'DeviceProtection', 'TechSupport', 'StreamingTV', 'StreamingMovies']:\n",
    "  x_train[feature] = x_train[feature].map({'Yes':1,'No':0,'No internet service':0})\n",
    "  x_test[feature] = x_test[feature].map({'Yes':1,'No':0,'No internet service':0})\n",
    "  "
   ]
  },
  {
   "cell_type": "code",
   "execution_count": 49,
   "metadata": {
    "id": "6pKoGgBUznsj"
   },
   "outputs": [],
   "source": [
    "x_train = pd.get_dummies(x_train, columns= ['InternetService','PaymentMethod'], drop_first = True)\n",
    "x_test = pd.get_dummies(x_test, columns= ['InternetService','PaymentMethod'], drop_first = True)"
   ]
  },
  {
   "cell_type": "markdown",
   "metadata": {
    "id": "0vOchKwNjmkY"
   },
   "source": [
    "#### **Scaling of Numerical Features**"
   ]
  },
  {
   "cell_type": "code",
   "execution_count": 50,
   "metadata": {
    "colab": {
     "base_uri": "https://localhost:8080/"
    },
    "id": "uGOC3P_u8NoG",
    "outputId": "4e70e86d-b6e5-4069-8e34-18c97b7272d1"
   },
   "outputs": [
    {
     "data": {
      "text/plain": [
       "dtype('float64')"
      ]
     },
     "execution_count": 50,
     "metadata": {
      "tags": []
     },
     "output_type": "execute_result"
    }
   ],
   "source": [
    "# TotalCharges is an integer, not an object, so it has to be converted in x_train and x_test\n",
    "TotalCharges_missing_x_train = x_train[ pd.to_numeric(x_train['TotalCharges'], errors='coerce').isnull()]\n",
    "for idx in TotalCharges_missing_x_train.index:\n",
    "  x_train.loc[idx,'TotalCharges'] = x_train.loc[idx]['Tenure'] * x_train.loc[idx]['MonthlyCharges']\n",
    "x_train['TotalCharges'] = x_train['TotalCharges'].astype(str).astype(float)\n",
    "x_train['TotalCharges'].dtype"
   ]
  },
  {
   "cell_type": "code",
   "execution_count": 51,
   "metadata": {
    "colab": {
     "base_uri": "https://localhost:8080/"
    },
    "id": "EAOGM6lIVD3a",
    "outputId": "bcfa4038-e46b-4f17-e847-342152bc5384"
   },
   "outputs": [
    {
     "data": {
      "text/plain": [
       "dtype('float64')"
      ]
     },
     "execution_count": 51,
     "metadata": {
      "tags": []
     },
     "output_type": "execute_result"
    }
   ],
   "source": [
    "TotalCharges_missing_x_test = x_test[ pd.to_numeric(x_test['TotalCharges'], errors='coerce').isnull()]\n",
    "for idx in TotalCharges_missing_x_test.index:\n",
    "  x_test.loc[idx,'TotalCharges'] = x_test.loc[idx]['Tenure'] * x_test.loc[idx]['MonthlyCharges']\n",
    "x_test['TotalCharges'] = x_test['TotalCharges'].astype(str).astype(float)\n",
    "x_test['TotalCharges'].dtype"
   ]
  },
  {
   "cell_type": "code",
   "execution_count": 52,
   "metadata": {
    "colab": {
     "base_uri": "https://localhost:8080/",
     "height": 181
    },
    "id": "m2kHdKD6eCMR",
    "outputId": "af113570-298f-4685-d981-7b4eff4efa45"
   },
   "outputs": [
    {
     "data": {
      "text/html": [
       "<div>\n",
       "<style scoped>\n",
       "    .dataframe tbody tr th:only-of-type {\n",
       "        vertical-align: middle;\n",
       "    }\n",
       "\n",
       "    .dataframe tbody tr th {\n",
       "        vertical-align: top;\n",
       "    }\n",
       "\n",
       "    .dataframe thead th {\n",
       "        text-align: right;\n",
       "    }\n",
       "</style>\n",
       "<table border=\"1\" class=\"dataframe\">\n",
       "  <thead>\n",
       "    <tr style=\"text-align: right;\">\n",
       "      <th></th>\n",
       "      <th>SeniorCitizen</th>\n",
       "      <th>Partner</th>\n",
       "      <th>Dependents</th>\n",
       "      <th>Tenure</th>\n",
       "      <th>MultipleLines</th>\n",
       "      <th>OnlineSecurity</th>\n",
       "      <th>OnlineBackup</th>\n",
       "      <th>DeviceProtection</th>\n",
       "      <th>TechSupport</th>\n",
       "      <th>StreamingTV</th>\n",
       "      <th>StreamingMovies</th>\n",
       "      <th>ContractType</th>\n",
       "      <th>PaperlessBilling</th>\n",
       "      <th>MonthlyCharges</th>\n",
       "      <th>TotalCharges</th>\n",
       "      <th>InternetService_Fiber optic</th>\n",
       "      <th>InternetService_No</th>\n",
       "      <th>PaymentMethod_Credit card (automatic)</th>\n",
       "      <th>PaymentMethod_Electronic check</th>\n",
       "      <th>PaymentMethod_Mailed check</th>\n",
       "    </tr>\n",
       "  </thead>\n",
       "  <tbody>\n",
       "    <tr>\n",
       "      <th>6661</th>\n",
       "      <td>0</td>\n",
       "      <td>1</td>\n",
       "      <td>1</td>\n",
       "      <td>1.000000</td>\n",
       "      <td>0</td>\n",
       "      <td>0</td>\n",
       "      <td>1</td>\n",
       "      <td>0</td>\n",
       "      <td>1</td>\n",
       "      <td>1</td>\n",
       "      <td>1</td>\n",
       "      <td>1</td>\n",
       "      <td>0</td>\n",
       "      <td>0.351271</td>\n",
       "      <td>0.435704</td>\n",
       "      <td>0</td>\n",
       "      <td>0</td>\n",
       "      <td>1</td>\n",
       "      <td>0</td>\n",
       "      <td>0</td>\n",
       "    </tr>\n",
       "    <tr>\n",
       "      <th>4811</th>\n",
       "      <td>0</td>\n",
       "      <td>0</td>\n",
       "      <td>0</td>\n",
       "      <td>0.055556</td>\n",
       "      <td>0</td>\n",
       "      <td>0</td>\n",
       "      <td>0</td>\n",
       "      <td>0</td>\n",
       "      <td>0</td>\n",
       "      <td>0</td>\n",
       "      <td>0</td>\n",
       "      <td>0</td>\n",
       "      <td>1</td>\n",
       "      <td>0.275037</td>\n",
       "      <td>0.022292</td>\n",
       "      <td>0</td>\n",
       "      <td>0</td>\n",
       "      <td>0</td>\n",
       "      <td>0</td>\n",
       "      <td>1</td>\n",
       "    </tr>\n",
       "    <tr>\n",
       "      <th>2193</th>\n",
       "      <td>0</td>\n",
       "      <td>0</td>\n",
       "      <td>1</td>\n",
       "      <td>0.777778</td>\n",
       "      <td>0</td>\n",
       "      <td>0</td>\n",
       "      <td>0</td>\n",
       "      <td>0</td>\n",
       "      <td>0</td>\n",
       "      <td>0</td>\n",
       "      <td>0</td>\n",
       "      <td>1</td>\n",
       "      <td>1</td>\n",
       "      <td>0.027902</td>\n",
       "      <td>0.142623</td>\n",
       "      <td>0</td>\n",
       "      <td>1</td>\n",
       "      <td>0</td>\n",
       "      <td>0</td>\n",
       "      <td>1</td>\n",
       "    </tr>\n",
       "  </tbody>\n",
       "</table>\n",
       "</div>"
      ],
      "text/plain": [
       "      SeniorCitizen  ...  PaymentMethod_Mailed check\n",
       "6661              0  ...                           0\n",
       "4811              0  ...                           1\n",
       "2193              0  ...                           1\n",
       "\n",
       "[3 rows x 20 columns]"
      ]
     },
     "execution_count": 52,
     "metadata": {
      "tags": []
     },
     "output_type": "execute_result"
    }
   ],
   "source": [
    "scaler = MinMaxScaler()\n",
    "minmax_scaler = scaler.fit(x_train[['Tenure','MonthlyCharges','TotalCharges']])\n",
    "x_train[['Tenure','MonthlyCharges','TotalCharges']] = minmax_scaler.transform(x_train[['Tenure','MonthlyCharges','TotalCharges']])\n",
    "x_train.head(3)"
   ]
  },
  {
   "cell_type": "code",
   "execution_count": 53,
   "metadata": {
    "id": "pBc8TikmUUJv"
   },
   "outputs": [],
   "source": [
    "x_test[['Tenure','MonthlyCharges','TotalCharges']] = minmax_scaler.transform(x_test[['Tenure','MonthlyCharges','TotalCharges']])"
   ]
  },
  {
   "cell_type": "markdown",
   "metadata": {
    "id": "ULANK9Fky4zJ"
   },
   "source": [
    "## **Model Selection**"
   ]
  },
  {
   "cell_type": "markdown",
   "metadata": {
    "id": "tJUoBtJyEFDZ"
   },
   "source": [
    "The model that will be used are :\n",
    "1. Logistic Regression\n",
    "2. LinearSVC\n",
    "3. Kernal SVC\n",
    "4. KNN\n",
    "5. Random Forest\n",
    "6. Adaboost\n"
   ]
  },
  {
   "cell_type": "code",
   "execution_count": 54,
   "metadata": {
    "id": "1EEQ6XfdmhjG"
   },
   "outputs": [],
   "source": [
    "def plot_confusion_matrix(y_test, pred):\n",
    "  cm = confusion_matrix(y_test, pred)\n",
    "  \n",
    "  df_cm = pd.DataFrame(cm, [0,1], [0,1])\n",
    "  plt.figure(figsize=(5,3))\n",
    "  sns.set(font_scale=1.4) # for label size\n",
    "  sns.heatmap(df_cm, annot=True, fmt='g', cbar=False, cmap=\"YlGnBu\") # font size , annot_kws={\"size\": 16}\n",
    "  plt.title('Confusion Matrix\\n', y=1.1)\n",
    "  plt.ylabel('Actual label\\n')\n",
    "  plt.xlabel('Predicted label\\n')\n",
    "\n",
    "  plt.show()"
   ]
  },
  {
   "cell_type": "code",
   "execution_count": 55,
   "metadata": {
    "colab": {
     "base_uri": "https://localhost:8080/",
     "height": 302
    },
    "id": "AJcFrBBQ0d8-",
    "outputId": "92c98711-759e-4b79-c7eb-208afabd5482"
   },
   "outputs": [
    {
     "data": {
      "image/png": "[encoded data removed]",
      "text/plain": [
       "<Figure size 360x216 with 1 Axes>"
      ]
     },
     "metadata": {
      "needs_background": "light",
      "tags": []
     },
     "output_type": "display_data"
    }
   ],
   "source": [
    "# the above function will return confusion matrix with values in the following format \n",
    "df_cm = pd.DataFrame([[1000,200],[150,250]],[0,1], [0,1])\n",
    "annot_arr = np.array([['True Negative','False Postive'],['False Negative','True Postive']], dtype = str)\n",
    "plt.figure(figsize=(5,3))\n",
    "sns.set(font_scale=1.4) # for label size\n",
    "sns.heatmap(df_cm, annot=annot_arr, fmt='s', cbar=False, cmap=\"YlGnBu\") # font size , annot_kws={\"size\": 16}\n",
    "plt.title('Confusion Matrix\\n', y=1.1)\n",
    "plt.ylabel('Actual label\\n')\n",
    "plt.xlabel('Predicted label\\n')\n",
    "plt.show()"
   ]
  },
  {
   "cell_type": "markdown",
   "metadata": {
    "id": "lEDLMYmY5Gmi"
   },
   "source": [
    "**Metrics for Model Evaluation:**\n",
    "\n",
    "The dataset is imbalanced, so accuracy is not a suitable metric in this case. Our main objective is to find all the customers who churn. So True Positive is more important.\n",
    "\n",
    "In this case, the False Negative ( Actually Churn but Predicted an Not Churn) is more costly than False Postive. **So we take F2-Score as a metric.**\n",
    "\n",
    "F2-Score is a fbeta_score with beta value = 2, \n",
    "F2-measure has the effect of lowering the importance of precision and increase the importance of recall,then the F2-Measure puts more attention on minimizing false negatives than minimizing false positives.\n"
   ]
  },
  {
   "cell_type": "code",
   "execution_count": 56,
   "metadata": {
    "id": "BhRo8zBl7AnY"
   },
   "outputs": [],
   "source": [
    "# Creating F2 score for the 'scoring' parameter of the RandomizedSearchCV\n",
    "fTwo_scorer = make_scorer(fbeta_score, beta=2)"
   ]
  },
  {
   "cell_type": "code",
   "execution_count": 57,
   "metadata": {
    "id": "SA8iq8__KIJR"
   },
   "outputs": [],
   "source": [
    "def model_metrics(table_name,model_name, y_test, pred, print_cm , print_cr):\n",
    "  if print_cm == True:\n",
    "    plot_confusion_matrix(y_test, pred)\n",
    "    print(\"\\n\")\n",
    "  if print_cr == True:\n",
    "    print(classification_report(y_test, pred),\"\\n\")\n",
    "\n",
    "  acc = round( accuracy_score(y_test, pred),4)\n",
    "  precision = round(precision_score(y_test, pred),4)\n",
    "  recall = round(recall_score(y_test, pred),4)\n",
    "  f1 = round(f1_score(y_test, pred),4)\n",
    "  f2 = round(fbeta_score(y_test, pred, beta = 2),4)\n",
    "\n",
    "  table_name.loc[table_name.shape[0]] = [model_name ,acc, precision, recall, f1, f2]"
   ]
  },
  {
   "cell_type": "code",
   "execution_count": 58,
   "metadata": {
    "id": "CTfFORrizHnt"
   },
   "outputs": [],
   "source": [
    "model_performance_without_hypertuning = pd.DataFrame(columns = ['model_name' ,'acc', 'precision', 'recall', 'f1', 'f2'])"
   ]
  },
  {
   "cell_type": "code",
   "execution_count": 59,
   "metadata": {
    "id": "4UEdhrqq3SgP"
   },
   "outputs": [],
   "source": [
    "model_performance_after_hypertuning = pd.DataFrame(columns = ['model_name' ,'acc', 'precision', 'recall', 'f1', 'f2'])"
   ]
  },
  {
   "cell_type": "code",
   "execution_count": 60,
   "metadata": {
    "id": "CKFnPHFw01v7"
   },
   "outputs": [],
   "source": [
    "models_without_hp = []\n",
    "\n",
    "models_without_hp.append(('Logistic Regression', LogisticRegression(random_state = 42)))\n",
    "\n",
    "models_without_hp.append(('Linear SVC', SVC(kernel = 'linear', random_state = 42)))\n",
    "\n",
    "models_without_hp.append(('Kernal SVC', SVC(kernel = 'rbf', random_state = 42)))\n",
    "\n",
    "models_without_hp.append(('KNN', KNeighborsClassifier()))\n",
    "\n",
    "models_without_hp.append(('Random Forest', RandomForestClassifier(random_state = 42)))\n",
    "\n",
    "models_without_hp.append(('Adaboost', AdaBoostClassifier(random_state = 42)))"
   ]
  },
  {
   "cell_type": "code",
   "execution_count": 61,
   "metadata": {
    "colab": {
     "base_uri": "https://localhost:8080/",
     "height": 237
    },
    "id": "0fFP86ELdJQQ",
    "outputId": "2cbb345c-33e2-489d-b1fc-93442f5a895b"
   },
   "outputs": [
    {
     "data": {
      "text/html": [
       "<div>\n",
       "<style scoped>\n",
       "    .dataframe tbody tr th:only-of-type {\n",
       "        vertical-align: middle;\n",
       "    }\n",
       "\n",
       "    .dataframe tbody tr th {\n",
       "        vertical-align: top;\n",
       "    }\n",
       "\n",
       "    .dataframe thead th {\n",
       "        text-align: right;\n",
       "    }\n",
       "</style>\n",
       "<table border=\"1\" class=\"dataframe\">\n",
       "  <thead>\n",
       "    <tr style=\"text-align: right;\">\n",
       "      <th></th>\n",
       "      <th>model_name</th>\n",
       "      <th>acc</th>\n",
       "      <th>precision</th>\n",
       "      <th>recall</th>\n",
       "      <th>f1</th>\n",
       "      <th>f2</th>\n",
       "    </tr>\n",
       "  </thead>\n",
       "  <tbody>\n",
       "    <tr>\n",
       "      <th>0</th>\n",
       "      <td>Logistic Regression</td>\n",
       "      <td>0.8030</td>\n",
       "      <td>0.6538</td>\n",
       "      <td>0.5460</td>\n",
       "      <td>0.5951</td>\n",
       "      <td>0.5647</td>\n",
       "    </tr>\n",
       "    <tr>\n",
       "      <th>1</th>\n",
       "      <td>Linear SVC</td>\n",
       "      <td>0.7922</td>\n",
       "      <td>0.6278</td>\n",
       "      <td>0.5310</td>\n",
       "      <td>0.5754</td>\n",
       "      <td>0.5479</td>\n",
       "    </tr>\n",
       "    <tr>\n",
       "      <th>2</th>\n",
       "      <td>Kernal SVC</td>\n",
       "      <td>0.7939</td>\n",
       "      <td>0.6421</td>\n",
       "      <td>0.5032</td>\n",
       "      <td>0.5642</td>\n",
       "      <td>0.5260</td>\n",
       "    </tr>\n",
       "    <tr>\n",
       "      <th>3</th>\n",
       "      <td>KNN</td>\n",
       "      <td>0.7694</td>\n",
       "      <td>0.5718</td>\n",
       "      <td>0.5203</td>\n",
       "      <td>0.5448</td>\n",
       "      <td>0.5299</td>\n",
       "    </tr>\n",
       "    <tr>\n",
       "      <th>4</th>\n",
       "      <td>Random Forest</td>\n",
       "      <td>0.7859</td>\n",
       "      <td>0.6236</td>\n",
       "      <td>0.4861</td>\n",
       "      <td>0.5463</td>\n",
       "      <td>0.5085</td>\n",
       "    </tr>\n",
       "    <tr>\n",
       "      <th>5</th>\n",
       "      <td>Adaboost</td>\n",
       "      <td>0.7984</td>\n",
       "      <td>0.6481</td>\n",
       "      <td>0.5246</td>\n",
       "      <td>0.5799</td>\n",
       "      <td>0.5454</td>\n",
       "    </tr>\n",
       "  </tbody>\n",
       "</table>\n",
       "</div>"
      ],
      "text/plain": [
       "            model_name     acc  precision  recall      f1      f2\n",
       "0  Logistic Regression  0.8030     0.6538  0.5460  0.5951  0.5647\n",
       "1           Linear SVC  0.7922     0.6278  0.5310  0.5754  0.5479\n",
       "2           Kernal SVC  0.7939     0.6421  0.5032  0.5642  0.5260\n",
       "3                  KNN  0.7694     0.5718  0.5203  0.5448  0.5299\n",
       "4        Random Forest  0.7859     0.6236  0.4861  0.5463  0.5085\n",
       "5             Adaboost  0.7984     0.6481  0.5246  0.5799  0.5454"
      ]
     },
     "execution_count": 61,
     "metadata": {
      "tags": []
     },
     "output_type": "execute_result"
    }
   ],
   "source": [
    "for name, model in models_without_hp:\n",
    "  \n",
    "  md = model.fit(x_train, y_train)\n",
    "  pred = md.predict(x_test)\n",
    "\n",
    "  model_metrics(model_performance_without_hypertuning, name, y_test, pred, False, False)\n",
    "\n",
    "model_performance_without_hypertuning"
   ]
  },
  {
   "cell_type": "markdown",
   "metadata": {
    "id": "4X388jqn4SBW"
   },
   "source": [
    "## **Hyper Paramaeter Tuning of models:**\n",
    "\n"
   ]
  },
  {
   "cell_type": "markdown",
   "metadata": {
    "id": "9mPKsY7GSHTt"
   },
   "source": [
    "#### **Logistic Regression**\n"
   ]
  },
  {
   "cell_type": "code",
   "execution_count": 62,
   "metadata": {
    "id": "9UhCAjuMSWzV"
   },
   "outputs": [],
   "source": [
    "log_reg = LogisticRegression(random_state = 42, max_iter= 1000)\n",
    "\n",
    "param_dist = {\n",
    "    'C' : [0.0001,0.001, 0.01, 0.1, 1.0, 10.0, 100.0],\n",
    "    'penalty' : ['l1', 'l2',None]\n",
    "}\n",
    "\n",
    "log_reg_hp =  RandomizedSearchCV(log_reg , param_distributions = param_dist ,  scoring = fTwo_scorer , cv = 5, random_state= 42)\n",
    "result1 = log_reg_hp.fit(x_train, y_train)"
   ]
  },
  {
   "cell_type": "code",
   "execution_count": 63,
   "metadata": {
    "colab": {
     "base_uri": "https://localhost:8080/"
    },
    "id": "hWIQc-PhXm_v",
    "outputId": "5d80cd9f-23ba-48cb-e7aa-3e448a79ce7f"
   },
   "outputs": [
    {
     "name": "stdout",
     "output_type": "stream",
     "text": [
      "LogisticRegression(C=10.0, class_weight=None, dual=False, fit_intercept=True,\n",
      "                   intercept_scaling=1, l1_ratio=None, max_iter=1000,\n",
      "                   multi_class='auto', n_jobs=None, penalty='l2',\n",
      "                   random_state=42, solver='lbfgs', tol=0.0001, verbose=0,\n",
      "                   warm_start=False)\n"
     ]
    }
   ],
   "source": [
    "print(result1.best_estimator_)"
   ]
  },
  {
   "cell_type": "code",
   "execution_count": 64,
   "metadata": {
    "id": "jUgUsop4YI-0"
   },
   "outputs": [],
   "source": [
    "pred_1 = result1.predict(x_test)"
   ]
  },
  {
   "cell_type": "code",
   "execution_count": 65,
   "metadata": {
    "colab": {
     "base_uri": "https://localhost:8080/",
     "height": 545
    },
    "id": "QxcCBJjuYVzG",
    "outputId": "64442551-5d53-4b72-cbb3-44467b4a9d79"
   },
   "outputs": [
    {
     "data": {
      "image/png": "[encoded data removed]",
      "text/plain": [
       "<Figure size 360x216 with 1 Axes>"
      ]
     },
     "metadata": {
      "tags": []
     },
     "output_type": "display_data"
    },
    {
     "name": "stdout",
     "output_type": "stream",
     "text": [
      "\n",
      "\n",
      "              precision    recall  f1-score   support\n",
      "\n",
      "           0       0.85      0.90      0.87      1294\n",
      "           1       0.66      0.55      0.60       467\n",
      "\n",
      "    accuracy                           0.81      1761\n",
      "   macro avg       0.75      0.73      0.74      1761\n",
      "weighted avg       0.80      0.81      0.80      1761\n",
      " \n",
      "\n",
      "            model_name     acc  precision  recall     f1     f2\n",
      "0  Logistic Regression  0.8064     0.6607  0.5546  0.603  0.573\n"
     ]
    }
   ],
   "source": [
    "model_metrics(model_performance_after_hypertuning, 'Logistic Regression', y_test, pred_1, True, True)\n",
    "\n",
    "print(model_performance_after_hypertuning.tail(1))"
   ]
  },
  {
   "cell_type": "markdown",
   "metadata": {
    "id": "iD4TEyTPZEFL"
   },
   "source": [
    "#### **Linear SVC**"
   ]
  },
  {
   "cell_type": "code",
   "execution_count": 66,
   "metadata": {
    "id": "ROq5GkM5aAtk"
   },
   "outputs": [],
   "source": [
    "linear_SVC = SVC(kernel = 'linear', random_state = 42)\n",
    "\n",
    "param_dist = {\n",
    "    'C' : [0.001, 0.01, 0.1, 1.0, 10.0, 100.0]\n",
    "}\n",
    "\n",
    "linear_SVC_hp =  RandomizedSearchCV(linear_SVC, param_distributions = param_dist , scoring = fTwo_scorer , cv = 5, random_state= 42)\n",
    "result2 = linear_SVC_hp.fit(x_train, y_train)"
   ]
  },
  {
   "cell_type": "code",
   "execution_count": 67,
   "metadata": {
    "colab": {
     "base_uri": "https://localhost:8080/"
    },
    "id": "dx-aJ2gde46M",
    "outputId": "22851f21-9f51-4965-e0ca-1492410f1c35"
   },
   "outputs": [
    {
     "name": "stdout",
     "output_type": "stream",
     "text": [
      "SVC(C=100.0, break_ties=False, cache_size=200, class_weight=None, coef0=0.0,\n",
      "    decision_function_shape='ovr', degree=3, gamma='scale', kernel='linear',\n",
      "    max_iter=-1, probability=False, random_state=42, shrinking=True, tol=0.001,\n",
      "    verbose=False)\n"
     ]
    }
   ],
   "source": [
    "print(result2.best_estimator_)\n",
    "\n",
    "pred_2 = result2.predict(x_test)"
   ]
  },
  {
   "cell_type": "code",
   "execution_count": 68,
   "metadata": {
    "colab": {
     "base_uri": "https://localhost:8080/",
     "height": 545
    },
    "id": "Ed2QI3t6fHWI",
    "outputId": "5934a2aa-ea87-41d0-9416-1f09be59ef9d"
   },
   "outputs": [
    {
     "data": {
      "image/png": "[encoded data removed]",
      "text/plain": [
       "<Figure size 360x216 with 1 Axes>"
      ]
     },
     "metadata": {
      "tags": []
     },
     "output_type": "display_data"
    },
    {
     "name": "stdout",
     "output_type": "stream",
     "text": [
      "\n",
      "\n",
      "              precision    recall  f1-score   support\n",
      "\n",
      "           0       0.84      0.88      0.86      1294\n",
      "           1       0.62      0.52      0.57       467\n",
      "\n",
      "    accuracy                           0.79      1761\n",
      "   macro avg       0.73      0.70      0.71      1761\n",
      "weighted avg       0.78      0.79      0.78      1761\n",
      " \n",
      "\n",
      "   model_name     acc  precision  recall      f1      f2\n",
      "1  Linear SVC  0.7893     0.6218  0.5246  0.5691  0.5416\n"
     ]
    }
   ],
   "source": [
    "model_metrics(model_performance_after_hypertuning, 'Linear SVC', y_test, pred_2, True, True)\n",
    "\n",
    "print(model_performance_after_hypertuning.tail(1))"
   ]
  },
  {
   "cell_type": "markdown",
   "metadata": {
    "id": "40B99v7NfLJi"
   },
   "source": [
    "#### **Kernal SVC**"
   ]
  },
  {
   "cell_type": "code",
   "execution_count": 69,
   "metadata": {
    "id": "HRl-r8O1fUO9"
   },
   "outputs": [],
   "source": [
    "kernal_SVC = SVC(kernel = 'rbf', random_state = 42)\n",
    "\n",
    "param_dist = {\n",
    "    'C' : [0.001, 0.01, 0.1, 1.0, 10.0, 100.0],\n",
    "    'gamma' : [ 0.0001 , 0.001, 0.01, 0.1, 1.0, 10]\n",
    "}\n",
    "\n",
    "kernal_SVC_hp =  RandomizedSearchCV(kernal_SVC, param_distributions = param_dist , scoring = fTwo_scorer , cv = 5, random_state= 42)\n",
    "result3 = kernal_SVC_hp.fit(x_train, y_train)"
   ]
  },
  {
   "cell_type": "code",
   "execution_count": 70,
   "metadata": {
    "colab": {
     "base_uri": "https://localhost:8080/"
    },
    "id": "O_7cjFj_f_pE",
    "outputId": "de336330-31f6-42fd-d800-37871cc1eabc"
   },
   "outputs": [
    {
     "name": "stdout",
     "output_type": "stream",
     "text": [
      "SVC(C=100.0, break_ties=False, cache_size=200, class_weight=None, coef0=0.0,\n",
      "    decision_function_shape='ovr', degree=3, gamma=0.001, kernel='rbf',\n",
      "    max_iter=-1, probability=False, random_state=42, shrinking=True, tol=0.001,\n",
      "    verbose=False)\n"
     ]
    }
   ],
   "source": [
    "print(result3.best_estimator_)\n",
    "\n",
    "pred_3 = result3.predict(x_test)"
   ]
  },
  {
   "cell_type": "code",
   "execution_count": 71,
   "metadata": {
    "colab": {
     "base_uri": "https://localhost:8080/",
     "height": 545
    },
    "id": "h2fNALKCgDa2",
    "outputId": "6d871f4b-5a91-4218-8360-6ac541c5ff28"
   },
   "outputs": [
    {
     "data": {
      "image/png": "[encoded data removed]",
      "text/plain": [
       "<Figure size 360x216 with 1 Axes>"
      ]
     },
     "metadata": {
      "tags": []
     },
     "output_type": "display_data"
    },
    {
     "name": "stdout",
     "output_type": "stream",
     "text": [
      "\n",
      "\n",
      "              precision    recall  f1-score   support\n",
      "\n",
      "           0       0.84      0.89      0.87      1294\n",
      "           1       0.64      0.53      0.58       467\n",
      "\n",
      "    accuracy                           0.80      1761\n",
      "   macro avg       0.74      0.71      0.72      1761\n",
      "weighted avg       0.79      0.80      0.79      1761\n",
      " \n",
      "\n",
      "   model_name     acc  precision  recall      f1      f2\n",
      "2  Kernal SVC  0.7961     0.6399  0.5289  0.5791  0.5479\n"
     ]
    }
   ],
   "source": [
    "model_metrics(model_performance_after_hypertuning, 'Kernal SVC', y_test, pred_3, True, True)\n",
    "\n",
    "print(model_performance_after_hypertuning.tail(1))"
   ]
  },
  {
   "cell_type": "markdown",
   "metadata": {
    "id": "hSkOMhr0gI6a"
   },
   "source": [
    "#### **KNN**"
   ]
  },
  {
   "cell_type": "code",
   "execution_count": 72,
   "metadata": {
    "colab": {
     "base_uri": "https://localhost:8080/"
    },
    "id": "ACFugb4yF43R",
    "outputId": "562ad37e-615f-43dd-d030-618dd5fd0bcd"
   },
   "outputs": [
    {
     "name": "stdout",
     "output_type": "stream",
     "text": [
      "K-Neighbours considered are : [1, 3, 5, 7, 9, 11, 13, 15, 17, 19, 21, 23, 25, 27, 29, 31, 33, 35, 37, 39]\n"
     ]
    }
   ],
   "source": [
    "f2_score_list = []\n",
    "# odd number of neighbours help in better classification in knn, if even neighbours are given then there can be draw between the number of neighbours supporting each class.\n",
    "neighbors = [x for x in range(1,40) if x % 2 != 0]\n",
    "print(\"K-Neighbours considered are :\",neighbors)\n",
    "for i in neighbors:\n",
    " knn = KNeighborsClassifier(n_neighbors=i)\n",
    " cross_val_scr = cross_val_score(knn, x_train, y_train, scoring = fTwo_scorer, cv=5)\n",
    " f2_score_list.append(cross_val_scr.mean())"
   ]
  },
  {
   "cell_type": "code",
   "execution_count": 73,
   "metadata": {
    "colab": {
     "base_uri": "https://localhost:8080/",
     "height": 441
    },
    "id": "pjeS2RMOHM9n",
    "outputId": "80eea731-c607-4039-b613-ee2f329c8c0d"
   },
   "outputs": [
    {
     "name": "stdout",
     "output_type": "stream",
     "text": [
      "Max F2 score:- 0.5770418430727028 at K = 31\n"
     ]
    },
    {
     "data": {
      "image/png": "[encoded data removed]",
      "text/plain": [
       "<Figure size 720x432 with 1 Axes>"
      ]
     },
     "metadata": {
      "tags": []
     },
     "output_type": "display_data"
    }
   ],
   "source": [
    "plt.figure(figsize=(10,6))\n",
    "plt.plot(neighbors,f2_score_list,color='blue', linestyle='dashed', \n",
    "         marker='o',markerfacecolor='red', markersize=10)\n",
    "plt.title('f2_score vs. K Neighbours')\n",
    "plt.xlabel('K')\n",
    "plt.ylabel('f2_score')\n",
    "max_index = f2_score_list.index(max(f2_score_list))\n",
    "max_index = neighbors[max_index]\n",
    "print(\"Max F2 score:-\",max(f2_score_list),\"at K =\",max_index)"
   ]
  },
  {
   "cell_type": "markdown",
   "metadata": {
    "id": "mhbUOi65OztJ"
   },
   "source": [
    "So, let us take k=31 as the optimum value of K "
   ]
  },
  {
   "cell_type": "code",
   "execution_count": 74,
   "metadata": {
    "colab": {
     "base_uri": "https://localhost:8080/",
     "height": 574
    },
    "id": "FOK_MZnApujF",
    "outputId": "1c1fe29d-7fa8-4c5b-a792-f0e4667ab293"
   },
   "outputs": [
    {
     "data": {
      "image/png": "[encoded data removed]",
      "text/plain": [
       "<Figure size 360x216 with 1 Axes>"
      ]
     },
     "metadata": {
      "tags": []
     },
     "output_type": "display_data"
    },
    {
     "name": "stdout",
     "output_type": "stream",
     "text": [
      "\n",
      "\n",
      "              precision    recall  f1-score   support\n",
      "\n",
      "           0       0.84      0.86      0.85      1294\n",
      "           1       0.59      0.55      0.57       467\n",
      "\n",
      "    accuracy                           0.78      1761\n",
      "   macro avg       0.72      0.71      0.71      1761\n",
      "weighted avg       0.78      0.78      0.78      1761\n",
      " \n",
      "\n"
     ]
    },
    {
     "data": {
      "text/html": [
       "<div>\n",
       "<style scoped>\n",
       "    .dataframe tbody tr th:only-of-type {\n",
       "        vertical-align: middle;\n",
       "    }\n",
       "\n",
       "    .dataframe tbody tr th {\n",
       "        vertical-align: top;\n",
       "    }\n",
       "\n",
       "    .dataframe thead th {\n",
       "        text-align: right;\n",
       "    }\n",
       "</style>\n",
       "<table border=\"1\" class=\"dataframe\">\n",
       "  <thead>\n",
       "    <tr style=\"text-align: right;\">\n",
       "      <th></th>\n",
       "      <th>model_name</th>\n",
       "      <th>acc</th>\n",
       "      <th>precision</th>\n",
       "      <th>recall</th>\n",
       "      <th>f1</th>\n",
       "      <th>f2</th>\n",
       "    </tr>\n",
       "  </thead>\n",
       "  <tbody>\n",
       "    <tr>\n",
       "      <th>3</th>\n",
       "      <td>KNN</td>\n",
       "      <td>0.7802</td>\n",
       "      <td>0.5917</td>\n",
       "      <td>0.5525</td>\n",
       "      <td>0.5714</td>\n",
       "      <td>0.5599</td>\n",
       "    </tr>\n",
       "  </tbody>\n",
       "</table>\n",
       "</div>"
      ],
      "text/plain": [
       "  model_name     acc  precision  recall      f1      f2\n",
       "3        KNN  0.7802     0.5917  0.5525  0.5714  0.5599"
      ]
     },
     "execution_count": 74,
     "metadata": {
      "tags": []
     },
     "output_type": "execute_result"
    }
   ],
   "source": [
    "knn = KNeighborsClassifier(n_neighbors=31)\n",
    "KNN = knn.fit(x_train, y_train)\n",
    "pred_4 = KNN.predict(x_test)\n",
    "\n",
    "model_metrics(model_performance_after_hypertuning, 'KNN', y_test, pred_4, True, True)\n",
    "\n",
    "model_performance_after_hypertuning.tail(1)"
   ]
  },
  {
   "cell_type": "markdown",
   "metadata": {
    "id": "Unqb1hj4L50t"
   },
   "source": [
    "#### **Random Forest**"
   ]
  },
  {
   "cell_type": "code",
   "execution_count": 75,
   "metadata": {
    "id": "Nnk5yp9QQm7K"
   },
   "outputs": [],
   "source": [
    "max_depth = [int(x) for x in np.linspace(10, 80, num = 11)]\n",
    "max_depth.append(None)\n",
    "\n",
    "param_grid = {'n_estimators' : [40,80,100,120,160,200,250,300],\n",
    "              'max_depth' : max_depth,\n",
    "              'min_samples_split' : [None,2,4,6,8],\n",
    "              'min_samples_leaf' : [None,1,2,3],\n",
    "              'criterion': ['gini','entropy'],\n",
    "              'max_features' : ['sqrt', 'log2']}"
   ]
  },
  {
   "cell_type": "code",
   "execution_count": 76,
   "metadata": {
    "colab": {
     "base_uri": "https://localhost:8080/"
    },
    "id": "dK2Tx22qQ6KV",
    "outputId": "cffedbf0-4cab-4693-d980-01afc3f65190"
   },
   "outputs": [
    {
     "data": {
      "text/plain": [
       "RandomForestClassifier(bootstrap=True, ccp_alpha=0.0, class_weight=None,\n",
       "                       criterion='entropy', max_depth=45, max_features='log2',\n",
       "                       max_leaf_nodes=None, max_samples=None,\n",
       "                       min_impurity_decrease=0.0, min_impurity_split=None,\n",
       "                       min_samples_leaf=3, min_samples_split=2,\n",
       "                       min_weight_fraction_leaf=0.0, n_estimators=250,\n",
       "                       n_jobs=None, oob_score=False, random_state=42, verbose=0,\n",
       "                       warm_start=False)"
      ]
     },
     "execution_count": 76,
     "metadata": {
      "tags": []
     },
     "output_type": "execute_result"
    }
   ],
   "source": [
    "rf = RandomForestClassifier(random_state=42)\n",
    "\n",
    "random_forest_hp =  RandomizedSearchCV(rf, param_distributions = param_grid , scoring = fTwo_scorer , cv = 5, random_state= 42)\n",
    "result5 = random_forest_hp.fit(x_train, y_train)\n",
    "\n",
    "result5.best_estimator_"
   ]
  },
  {
   "cell_type": "code",
   "execution_count": 77,
   "metadata": {
    "colab": {
     "base_uri": "https://localhost:8080/",
     "height": 574
    },
    "id": "KOw39cwCSxyX",
    "outputId": "e95903bd-1ab2-4be3-fe3f-b071a078e6b2"
   },
   "outputs": [
    {
     "data": {
      "image/png": "[encoded data removed]",
      "text/plain": [
       "<Figure size 360x216 with 1 Axes>"
      ]
     },
     "metadata": {
      "tags": []
     },
     "output_type": "display_data"
    },
    {
     "name": "stdout",
     "output_type": "stream",
     "text": [
      "\n",
      "\n",
      "              precision    recall  f1-score   support\n",
      "\n",
      "           0       0.83      0.91      0.87      1294\n",
      "           1       0.66      0.49      0.56       467\n",
      "\n",
      "    accuracy                           0.80      1761\n",
      "   macro avg       0.74      0.70      0.71      1761\n",
      "weighted avg       0.78      0.80      0.79      1761\n",
      " \n",
      "\n"
     ]
    },
    {
     "data": {
      "text/html": [
       "<div>\n",
       "<style scoped>\n",
       "    .dataframe tbody tr th:only-of-type {\n",
       "        vertical-align: middle;\n",
       "    }\n",
       "\n",
       "    .dataframe tbody tr th {\n",
       "        vertical-align: top;\n",
       "    }\n",
       "\n",
       "    .dataframe thead th {\n",
       "        text-align: right;\n",
       "    }\n",
       "</style>\n",
       "<table border=\"1\" class=\"dataframe\">\n",
       "  <thead>\n",
       "    <tr style=\"text-align: right;\">\n",
       "      <th></th>\n",
       "      <th>model_name</th>\n",
       "      <th>acc</th>\n",
       "      <th>precision</th>\n",
       "      <th>recall</th>\n",
       "      <th>f1</th>\n",
       "      <th>f2</th>\n",
       "    </tr>\n",
       "  </thead>\n",
       "  <tbody>\n",
       "    <tr>\n",
       "      <th>4</th>\n",
       "      <td>Random_forest</td>\n",
       "      <td>0.7967</td>\n",
       "      <td>0.658</td>\n",
       "      <td>0.4861</td>\n",
       "      <td>0.5591</td>\n",
       "      <td>0.5129</td>\n",
       "    </tr>\n",
       "  </tbody>\n",
       "</table>\n",
       "</div>"
      ],
      "text/plain": [
       "      model_name     acc  precision  recall      f1      f2\n",
       "4  Random_forest  0.7967      0.658  0.4861  0.5591  0.5129"
      ]
     },
     "execution_count": 77,
     "metadata": {
      "tags": []
     },
     "output_type": "execute_result"
    }
   ],
   "source": [
    "pred_5 = random_forest_hp.predict(x_test)\n",
    "\n",
    "model_metrics(model_performance_after_hypertuning, 'Random_forest', y_test, pred_5, True, True)\n",
    "\n",
    "model_performance_after_hypertuning.tail(1)"
   ]
  },
  {
   "cell_type": "markdown",
   "metadata": {
    "id": "ohtExQAiTnTt"
   },
   "source": [
    "#### **AdaBoost**"
   ]
  },
  {
   "cell_type": "code",
   "execution_count": 78,
   "metadata": {
    "id": "QU_fm_f5T3NB"
   },
   "outputs": [],
   "source": [
    "param_grid2 = {'n_estimators' : [40,80,100,120,160,200,250,300],\n",
    "              'learning_rate' : [0.00001, 0.0001, 0.001, 0.01, 0.1, 1.0]}"
   ]
  },
  {
   "cell_type": "code",
   "execution_count": 79,
   "metadata": {
    "colab": {
     "base_uri": "https://localhost:8080/"
    },
    "id": "DhG0ppvoQ5oZ",
    "outputId": "cfecba97-75e8-478c-80f2-9974b8d23c78"
   },
   "outputs": [
    {
     "data": {
      "text/plain": [
       "AdaBoostClassifier(algorithm='SAMME.R', base_estimator=None, learning_rate=1.0,\n",
       "                   n_estimators=120, random_state=42)"
      ]
     },
     "execution_count": 79,
     "metadata": {
      "tags": []
     },
     "output_type": "execute_result"
    }
   ],
   "source": [
    "AdaBoost = AdaBoostClassifier(random_state = 42)\n",
    "\n",
    "adaboost_hp = RandomizedSearchCV(AdaBoost , param_distributions = param_grid2 , scoring = fTwo_scorer , cv = 5, random_state= 42)\n",
    "\n",
    "result6 = adaboost_hp.fit(x_train, y_train)\n",
    "\n",
    "result6.best_estimator_"
   ]
  },
  {
   "cell_type": "code",
   "execution_count": 80,
   "metadata": {
    "colab": {
     "base_uri": "https://localhost:8080/",
     "height": 574
    },
    "id": "fUas8G27M5Uz",
    "outputId": "d7ec9196-4c69-4a10-9b88-900edced7f40"
   },
   "outputs": [
    {
     "data": {
      "image/png": "[encoded data removed]",
      "text/plain": [
       "<Figure size 360x216 with 1 Axes>"
      ]
     },
     "metadata": {
      "tags": []
     },
     "output_type": "display_data"
    },
    {
     "name": "stdout",
     "output_type": "stream",
     "text": [
      "\n",
      "\n",
      "              precision    recall  f1-score   support\n",
      "\n",
      "           0       0.84      0.89      0.87      1294\n",
      "           1       0.64      0.52      0.58       467\n",
      "\n",
      "    accuracy                           0.80      1761\n",
      "   macro avg       0.74      0.71      0.72      1761\n",
      "weighted avg       0.79      0.80      0.79      1761\n",
      " \n",
      "\n"
     ]
    },
    {
     "data": {
      "text/html": [
       "<div>\n",
       "<style scoped>\n",
       "    .dataframe tbody tr th:only-of-type {\n",
       "        vertical-align: middle;\n",
       "    }\n",
       "\n",
       "    .dataframe tbody tr th {\n",
       "        vertical-align: top;\n",
       "    }\n",
       "\n",
       "    .dataframe thead th {\n",
       "        text-align: right;\n",
       "    }\n",
       "</style>\n",
       "<table border=\"1\" class=\"dataframe\">\n",
       "  <thead>\n",
       "    <tr style=\"text-align: right;\">\n",
       "      <th></th>\n",
       "      <th>model_name</th>\n",
       "      <th>acc</th>\n",
       "      <th>precision</th>\n",
       "      <th>recall</th>\n",
       "      <th>f1</th>\n",
       "      <th>f2</th>\n",
       "    </tr>\n",
       "  </thead>\n",
       "  <tbody>\n",
       "    <tr>\n",
       "      <th>5</th>\n",
       "      <td>AdaBoost</td>\n",
       "      <td>0.7967</td>\n",
       "      <td>0.643</td>\n",
       "      <td>0.5246</td>\n",
       "      <td>0.5778</td>\n",
       "      <td>0.5447</td>\n",
       "    </tr>\n",
       "  </tbody>\n",
       "</table>\n",
       "</div>"
      ],
      "text/plain": [
       "  model_name     acc  precision  recall      f1      f2\n",
       "5   AdaBoost  0.7967      0.643  0.5246  0.5778  0.5447"
      ]
     },
     "execution_count": 80,
     "metadata": {
      "tags": []
     },
     "output_type": "execute_result"
    }
   ],
   "source": [
    "pred_6 = adaboost_hp.predict(x_test)\n",
    "\n",
    "model_metrics(model_performance_after_hypertuning, 'AdaBoost', y_test, pred_6, True, True)\n",
    "\n",
    "model_performance_after_hypertuning.tail(1)"
   ]
  },
  {
   "cell_type": "markdown",
   "metadata": {
    "id": "-3xNB3WvP5UF"
   },
   "source": [
    "## **Model Evaluation**\n"
   ]
  },
  {
   "cell_type": "code",
   "execution_count": 81,
   "metadata": {
    "colab": {
     "base_uri": "https://localhost:8080/",
     "height": 237
    },
    "id": "aRl0OSIaZwus",
    "outputId": "726f0a85-72fe-4b42-c9c3-931d916710bd"
   },
   "outputs": [
    {
     "data": {
      "text/html": [
       "<div>\n",
       "<style scoped>\n",
       "    .dataframe tbody tr th:only-of-type {\n",
       "        vertical-align: middle;\n",
       "    }\n",
       "\n",
       "    .dataframe tbody tr th {\n",
       "        vertical-align: top;\n",
       "    }\n",
       "\n",
       "    .dataframe thead th {\n",
       "        text-align: right;\n",
       "    }\n",
       "</style>\n",
       "<table border=\"1\" class=\"dataframe\">\n",
       "  <thead>\n",
       "    <tr style=\"text-align: right;\">\n",
       "      <th></th>\n",
       "      <th>model_name</th>\n",
       "      <th>acc</th>\n",
       "      <th>precision</th>\n",
       "      <th>recall</th>\n",
       "      <th>f1</th>\n",
       "      <th>f2</th>\n",
       "    </tr>\n",
       "  </thead>\n",
       "  <tbody>\n",
       "    <tr>\n",
       "      <th>0</th>\n",
       "      <td>Logistic Regression</td>\n",
       "      <td>0.8030</td>\n",
       "      <td>0.6538</td>\n",
       "      <td>0.5460</td>\n",
       "      <td>0.5951</td>\n",
       "      <td>0.5647</td>\n",
       "    </tr>\n",
       "    <tr>\n",
       "      <th>1</th>\n",
       "      <td>Linear SVC</td>\n",
       "      <td>0.7922</td>\n",
       "      <td>0.6278</td>\n",
       "      <td>0.5310</td>\n",
       "      <td>0.5754</td>\n",
       "      <td>0.5479</td>\n",
       "    </tr>\n",
       "    <tr>\n",
       "      <th>2</th>\n",
       "      <td>Kernal SVC</td>\n",
       "      <td>0.7939</td>\n",
       "      <td>0.6421</td>\n",
       "      <td>0.5032</td>\n",
       "      <td>0.5642</td>\n",
       "      <td>0.5260</td>\n",
       "    </tr>\n",
       "    <tr>\n",
       "      <th>3</th>\n",
       "      <td>KNN</td>\n",
       "      <td>0.7694</td>\n",
       "      <td>0.5718</td>\n",
       "      <td>0.5203</td>\n",
       "      <td>0.5448</td>\n",
       "      <td>0.5299</td>\n",
       "    </tr>\n",
       "    <tr>\n",
       "      <th>4</th>\n",
       "      <td>Random Forest</td>\n",
       "      <td>0.7859</td>\n",
       "      <td>0.6236</td>\n",
       "      <td>0.4861</td>\n",
       "      <td>0.5463</td>\n",
       "      <td>0.5085</td>\n",
       "    </tr>\n",
       "    <tr>\n",
       "      <th>5</th>\n",
       "      <td>Adaboost</td>\n",
       "      <td>0.7984</td>\n",
       "      <td>0.6481</td>\n",
       "      <td>0.5246</td>\n",
       "      <td>0.5799</td>\n",
       "      <td>0.5454</td>\n",
       "    </tr>\n",
       "  </tbody>\n",
       "</table>\n",
       "</div>"
      ],
      "text/plain": [
       "            model_name     acc  precision  recall      f1      f2\n",
       "0  Logistic Regression  0.8030     0.6538  0.5460  0.5951  0.5647\n",
       "1           Linear SVC  0.7922     0.6278  0.5310  0.5754  0.5479\n",
       "2           Kernal SVC  0.7939     0.6421  0.5032  0.5642  0.5260\n",
       "3                  KNN  0.7694     0.5718  0.5203  0.5448  0.5299\n",
       "4        Random Forest  0.7859     0.6236  0.4861  0.5463  0.5085\n",
       "5             Adaboost  0.7984     0.6481  0.5246  0.5799  0.5454"
      ]
     },
     "execution_count": 81,
     "metadata": {
      "tags": []
     },
     "output_type": "execute_result"
    }
   ],
   "source": [
    "model_performance_without_hypertuning"
   ]
  },
  {
   "cell_type": "code",
   "execution_count": 82,
   "metadata": {
    "colab": {
     "base_uri": "https://localhost:8080/",
     "height": 237
    },
    "id": "vKFW7hpFP9H6",
    "outputId": "d1d21af6-d137-49c3-aa15-598857f56c5e"
   },
   "outputs": [
    {
     "data": {
      "text/html": [
       "<div>\n",
       "<style scoped>\n",
       "    .dataframe tbody tr th:only-of-type {\n",
       "        vertical-align: middle;\n",
       "    }\n",
       "\n",
       "    .dataframe tbody tr th {\n",
       "        vertical-align: top;\n",
       "    }\n",
       "\n",
       "    .dataframe thead th {\n",
       "        text-align: right;\n",
       "    }\n",
       "</style>\n",
       "<table border=\"1\" class=\"dataframe\">\n",
       "  <thead>\n",
       "    <tr style=\"text-align: right;\">\n",
       "      <th></th>\n",
       "      <th>model_name</th>\n",
       "      <th>acc</th>\n",
       "      <th>precision</th>\n",
       "      <th>recall</th>\n",
       "      <th>f1</th>\n",
       "      <th>f2</th>\n",
       "    </tr>\n",
       "  </thead>\n",
       "  <tbody>\n",
       "    <tr>\n",
       "      <th>0</th>\n",
       "      <td>Logistic Regression</td>\n",
       "      <td>0.8064</td>\n",
       "      <td>0.6607</td>\n",
       "      <td>0.5546</td>\n",
       "      <td>0.6030</td>\n",
       "      <td>0.5730</td>\n",
       "    </tr>\n",
       "    <tr>\n",
       "      <th>1</th>\n",
       "      <td>Linear SVC</td>\n",
       "      <td>0.7893</td>\n",
       "      <td>0.6218</td>\n",
       "      <td>0.5246</td>\n",
       "      <td>0.5691</td>\n",
       "      <td>0.5416</td>\n",
       "    </tr>\n",
       "    <tr>\n",
       "      <th>2</th>\n",
       "      <td>Kernal SVC</td>\n",
       "      <td>0.7961</td>\n",
       "      <td>0.6399</td>\n",
       "      <td>0.5289</td>\n",
       "      <td>0.5791</td>\n",
       "      <td>0.5479</td>\n",
       "    </tr>\n",
       "    <tr>\n",
       "      <th>3</th>\n",
       "      <td>KNN</td>\n",
       "      <td>0.7802</td>\n",
       "      <td>0.5917</td>\n",
       "      <td>0.5525</td>\n",
       "      <td>0.5714</td>\n",
       "      <td>0.5599</td>\n",
       "    </tr>\n",
       "    <tr>\n",
       "      <th>4</th>\n",
       "      <td>Random_forest</td>\n",
       "      <td>0.7967</td>\n",
       "      <td>0.6580</td>\n",
       "      <td>0.4861</td>\n",
       "      <td>0.5591</td>\n",
       "      <td>0.5129</td>\n",
       "    </tr>\n",
       "    <tr>\n",
       "      <th>5</th>\n",
       "      <td>AdaBoost</td>\n",
       "      <td>0.7967</td>\n",
       "      <td>0.6430</td>\n",
       "      <td>0.5246</td>\n",
       "      <td>0.5778</td>\n",
       "      <td>0.5447</td>\n",
       "    </tr>\n",
       "  </tbody>\n",
       "</table>\n",
       "</div>"
      ],
      "text/plain": [
       "            model_name     acc  precision  recall      f1      f2\n",
       "0  Logistic Regression  0.8064     0.6607  0.5546  0.6030  0.5730\n",
       "1           Linear SVC  0.7893     0.6218  0.5246  0.5691  0.5416\n",
       "2           Kernal SVC  0.7961     0.6399  0.5289  0.5791  0.5479\n",
       "3                  KNN  0.7802     0.5917  0.5525  0.5714  0.5599\n",
       "4        Random_forest  0.7967     0.6580  0.4861  0.5591  0.5129\n",
       "5             AdaBoost  0.7967     0.6430  0.5246  0.5778  0.5447"
      ]
     },
     "execution_count": 82,
     "metadata": {
      "tags": []
     },
     "output_type": "execute_result"
    }
   ],
   "source": [
    "model_performance_after_hypertuning"
   ]
  },
  {
   "cell_type": "markdown",
   "metadata": {
    "id": "3I3_gE_YCrjs"
   },
   "source": [
    "## **Conclusion:**\n",
    "\n",
    "There is not much difference before and after hyper parameter tuning.\n",
    "\n",
    "The model with highest F2-Score is **\"Logistic Regression\"** model after Hyper Parameter Tuning. So we can finalize this model. It also gives an accuracy of 80.64%"
   ]
  }
 ],
 "metadata": {
  "accelerator": "GPU",
  "colab": {
   "collapsed_sections": [],
   "name": "Telecom Customer Churn Prediction.ipynb",
   "provenance": []
  },
  "kernelspec": {
   "display_name": "Python 3",
   "language": "python",
   "name": "python3"
  },
  "language_info": {
   "codemirror_mode": {
    "name": "ipython",
    "version": 3
   },
   "file_extension": ".py",
   "mimetype": "text/x-python",
   "name": "python",
   "nbconvert_exporter": "python",
   "pygments_lexer": "ipython3",
   "version": "3.6.8"
  }
 },
 "nbformat": 4,
 "nbformat_minor": 1
}
